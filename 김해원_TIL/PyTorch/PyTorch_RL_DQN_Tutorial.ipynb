{
  "nbformat": 4,
  "nbformat_minor": 0,
  "metadata": {
    "colab": {
      "provenance": [],
      "gpuType": "T4"
    },
    "kernelspec": {
      "name": "python3",
      "display_name": "Python 3"
    },
    "language_info": {
      "name": "python"
    },
    "accelerator": "GPU"
  },
  "cells": [
    {
      "cell_type": "code",
      "execution_count": 2,
      "metadata": {
        "colab": {
          "base_uri": "https://localhost:8080/"
        },
        "id": "3WdHFzmdtfni",
        "outputId": "eb4c50de-55be-4532-cbf8-f03779e5d21d"
      },
      "outputs": [
        {
          "output_type": "stream",
          "name": "stdout",
          "text": [
            "Requirement already satisfied: gym[classic_control] in /usr/local/lib/python3.10/dist-packages (0.25.2)\n",
            "Requirement already satisfied: numpy>=1.18.0 in /usr/local/lib/python3.10/dist-packages (from gym[classic_control]) (1.23.5)\n",
            "Requirement already satisfied: cloudpickle>=1.2.0 in /usr/local/lib/python3.10/dist-packages (from gym[classic_control]) (2.2.1)\n",
            "Requirement already satisfied: gym-notices>=0.0.4 in /usr/local/lib/python3.10/dist-packages (from gym[classic_control]) (0.0.8)\n",
            "Collecting pygame==2.1.0 (from gym[classic_control])\n",
            "  Downloading pygame-2.1.0-cp310-cp310-manylinux_2_17_x86_64.manylinux2014_x86_64.whl (18.3 MB)\n",
            "     ━━━━━━━━━━━━━━━━━━━━━━━━━━━━━━━━━━━━━━━━ 18.3/18.3 MB 43.2 MB/s eta 0:00:00\n",
            "Installing collected packages: pygame\n",
            "  Attempting uninstall: pygame\n",
            "    Found existing installation: pygame 2.5.1\n",
            "    Uninstalling pygame-2.5.1:\n",
            "      Successfully uninstalled pygame-2.5.1\n",
            "Successfully installed pygame-2.1.0\n",
            "Collecting gymnasium\n",
            "  Downloading gymnasium-0.29.0-py3-none-any.whl (953 kB)\n",
            "     ━━━━━━━━━━━━━━━━━━━━━━━━━━━━━━━━━━━━━━━ 953.8/953.8 kB 8.0 MB/s eta 0:00:00\n",
            "Requirement already satisfied: numpy>=1.21.0 in /usr/local/lib/python3.10/dist-packages (from gymnasium) (1.23.5)\n",
            "Requirement already satisfied: cloudpickle>=1.2.0 in /usr/local/lib/python3.10/dist-packages (from gymnasium) (2.2.1)\n",
            "Requirement already satisfied: typing-extensions>=4.3.0 in /usr/local/lib/python3.10/dist-packages (from gymnasium) (4.7.1)\n",
            "Collecting farama-notifications>=0.0.1 (from gymnasium)\n",
            "  Downloading Farama_Notifications-0.0.4-py3-none-any.whl (2.5 kB)\n",
            "Installing collected packages: farama-notifications, gymnasium\n",
            "Successfully installed farama-notifications-0.0.4 gymnasium-0.29.0\n"
          ]
        }
      ],
      "source": [
        "%%bash\n",
        "pip3 install gymnasium[classic_control]"
      ]
    },
    {
      "cell_type": "code",
      "source": [
        "import gymnasium as gym\n",
        "import math\n",
        "import random\n",
        "import matplotlib\n",
        "import matplotlib.pyplot as plt\n",
        "from collections import namedtuple, deque\n",
        "from itertools import count\n",
        "\n",
        "import torch\n",
        "import torch.nn as nn\n",
        "import torch.optim as optim\n",
        "import torch.nn.functional as F\n",
        "\n",
        "env = gym.make(\"CartPole-v1\") # CartPole-v1 환경 생성\n",
        "\n",
        "# matplotlib 설정\n",
        "is_ipython = 'inline' in matplotlib.get_backend()\n",
        "if is_ipython:\n",
        "    from IPython import display\n",
        "\n",
        "plt.ion()\n",
        "\n",
        "# GPU를 사용할 경우\n",
        "device = torch.device(\"cuda\" if torch.cuda.is_available() else \"cpu\")"
      ],
      "metadata": {
        "id": "MNRndZfWtw_N"
      },
      "execution_count": 3,
      "outputs": []
    },
    {
      "cell_type": "code",
      "source": [
        "Transition = namedtuple('Transition',\n",
        "                        ('state', 'action', 'next_state', 'reward')) # 현재 상태, 행동, 다음 상태, 보상\n",
        "\n",
        "\n",
        "class ReplayMemory(object):\n",
        "\n",
        "    def __init__(self, capacity):\n",
        "        self.memory = deque([], maxlen=capacity)\n",
        "\n",
        "    def push(self, *args):\n",
        "        \"\"\"transition 저장\"\"\"\n",
        "        self.memory.append(Transition(*args))\n",
        "\n",
        "    def sample(self, batch_size):\n",
        "        return random.sample(self.memory, batch_size) # 메모리에서 무작위로 batch_size 만큼 샘플링\n",
        "\n",
        "    def __len__(self):\n",
        "        return len(self.memory)"
      ],
      "metadata": {
        "id": "bUiFFgYwuvTV"
      },
      "execution_count": 4,
      "outputs": []
    },
    {
      "cell_type": "code",
      "source": [
        "class DQN(nn.Module):\n",
        "\n",
        "    def __init__(self, n_observations, n_actions):\n",
        "        super(DQN, self).__init__()\n",
        "        self.layer1 = nn.Linear(n_observations, 128)\n",
        "        self.layer2 = nn.Linear(128, 128)\n",
        "        self.layer3 = nn.Linear(128, n_actions)\n",
        "\n",
        "    # 최적화 중에 다음 행동을 결정하기 위해서 하나의 요소 또는 배치를 이용해 호촐\n",
        "    # ([[left0exp,right0exp]...]) 를 반환\n",
        "    def forward(self, x):\n",
        "        x = F.relu(self.layer1(x))\n",
        "        x = F.relu(self.layer2(x))\n",
        "        return self.layer3(x) # 각 행동의 기대값을 예측"
      ],
      "metadata": {
        "id": "FRN53eBsvDIm"
      },
      "execution_count": 5,
      "outputs": []
    },
    {
      "cell_type": "code",
      "source": [
        "BATCH_SIZE = 128 # 리플레이 버퍼에서 샘플링된 트랜지션의 수\n",
        "GAMMA = 0.99\n",
        "EPS_START = 0.9 # 엡실론 초기 값\n",
        "EPS_END = 0.05 # 엡실론 최종 값\n",
        "EPS_DECAY = 1000 # 엡실론 지수 감쇠 속도를 제어하는 값, 높을수록 감쇠 속도 느림\n",
        "TAU = 0.005 # 목표 네트워크의 업데이트 속도\n",
        "LR = 1e-4 # 옵티마이저의 학습률\n",
        "\n",
        "# gym 행동 공간에서 행동의 숫자(가능한 행동의 수)를 얻습니다.\n",
        "n_actions = env.action_space.n\n",
        "\n",
        "state, info = env.reset() # 초기 상태 얻기\n",
        "n_observations = len(state) # 관측값의 개수\n",
        "\n",
        "policy_net = DQN(n_observations, n_actions).to(device) # 정책 네트워크 생성\n",
        "target_net = DQN(n_observations, n_actions).to(device) # 타겟 네트워크 생성\n",
        "target_net.load_state_dict(policy_net.state_dict()) # 정책 네트워크의 가중치를 가져옴\n",
        "\n",
        "optimizer = optim.AdamW(policy_net.parameters(), lr=LR, amsgrad=True)\n",
        "memory = ReplayMemory(10000) # DQN 학습을 위해 과거 경험을 저장하고 샘플링\n",
        "\n",
        "\n",
        "steps_done = 0 # 학습 단계 수\n",
        "\n",
        "\n",
        "# 엡실론-그리디 정책을 구현한 함수\n",
        "def select_action(state):\n",
        "    global steps_done\n",
        "    sample = random.random() # 0-1 사이 무작위 값 생성\n",
        "    eps_threshold = EPS_END + (EPS_START - EPS_END) * \\\n",
        "        math.exp(-1. * steps_done / EPS_DECAY)\n",
        "    steps_done += 1 # 학습 단계 수 증가\n",
        "    if sample > eps_threshold: # 정책 네트워크에 의한 행동 선택 수행\n",
        "        with torch.no_grad():\n",
        "            # t.max (1)은 각 행의 가장 큰 열 값을 반환\n",
        "            # 최대 결과의 두번째 열은 최대 요소의 주소값이므로,\n",
        "            # 기대 보상이 더 큰 행동을 선택할 수 있다.\n",
        "            return policy_net(state).max(1)[1].view(1, 1)\n",
        "    else: # 무작위 행동 선택\n",
        "        return torch.tensor([[env.action_space.sample()]], device=device, dtype=torch.long)\n",
        "\n",
        "\n",
        "episode_durations = [] # 각 에피소드의 지속 시간을 저장하는 리스트\n",
        "\n",
        "\n",
        "# 에피소드의 지속 시간 시각화하는 함수\n",
        "def plot_durations(show_result=False):\n",
        "    plt.figure(1) # 도표 생성\n",
        "    durations_t = torch.tensor(episode_durations, dtype=torch.float) # 리스트를 텐서로 변환\n",
        "    if show_result: # 학습 결과\n",
        "        plt.title('Result')\n",
        "    else: # 학습 과정 중\n",
        "        plt.clf() # 도표 지우기\n",
        "        plt.title('Training...')\n",
        "    plt.xlabel('Episode')\n",
        "    plt.ylabel('Duration')\n",
        "    plt.plot(durations_t.numpy()) # 각 에피소드의 지속 시간 그래프\n",
        "    # 100개의 에피소드 평균을 가져 와서 도표 그리기\n",
        "    if len(durations_t) >= 100:\n",
        "        means = durations_t.unfold(0, 100, 1).mean(1).view(-1) # 100개의 에피소드 평균 지속 시간\n",
        "        means = torch.cat((torch.zeros(99), means)) # 처음 99개는 0으로 채우고, 그 뒤에 평균 지속 시간 추가\n",
        "        plt.plot(means.numpy()) # 평균 지속 시간 그래프\n",
        "\n",
        "    plt.pause(0.001)  # 도표가 업데이트되도록 잠시 멈춤\n",
        "    if is_ipython: # IPython 환경에서 실행 중인지 확인\n",
        "        if not show_result:\n",
        "            display.display(plt.gcf())\n",
        "            display.clear_output(wait=True)\n",
        "        else:\n",
        "            display.display(plt.gcf())"
      ],
      "metadata": {
        "id": "fFFCNFw3vOj9"
      },
      "execution_count": 6,
      "outputs": []
    },
    {
      "cell_type": "code",
      "source": [
        "def optimize_model():\n",
        "    if len(memory) < BATCH_SIZE: # 메모리에 저장된 데이터가 BATCH_SIZE 크기보다 작을 경우\n",
        "        return\n",
        "    transitions = memory.sample(BATCH_SIZE) # 메모리에서 BATCH_SIZE 크기만큼 트랜지션 데이터 샘플링\n",
        "    # Transpose the batch (see https://stackoverflow.com/a/19343/3343043 for detailed explanation).\n",
        "    # batch-array의 Transitions을 Transition의 batch-arrays로 전환\n",
        "    batch = Transition(*zip(*transitions))\n",
        "\n",
        "    # 최종이 아닌 상태의 마스크를 계산하고 배치 요소를 연결\n",
        "    # (최종 상태는 시뮬레이션이 종료 된 이후의 상태)\n",
        "    non_final_mask = torch.tensor(tuple(map(lambda s: s is not None,\n",
        "                                          batch.next_state)), device=device, dtype=torch.bool) # 각 상태가 최종 상태인지 아닌지 여부 판단\n",
        "    non_final_next_states = torch.cat([s for s in batch.next_state\n",
        "                                                if s is not None]) # 최종 상태가 아닌 다음 상태들을 모아서 하나의 텐서로 합치기\n",
        "    state_batch = torch.cat(batch.state) # 배치 내의 상태\n",
        "    action_batch = torch.cat(batch.action) # 배치 내의 행동\n",
        "    reward_batch = torch.cat(batch.reward) # 배치 내의 보상\n",
        "\n",
        "    # Q(s_t, a) 계산 - 모델이 Q(s_t)를 계산하고, 취한 행동의 열을 선택\n",
        "    # policy_net에 따라 각 배치 상태에 대해 선택된 행동\n",
        "    state_action_values = policy_net(state_batch).gather(1, action_batch)\n",
        "\n",
        "    # 모든 다음 상태를 위한 V(s_{t+1}) 계산\n",
        "    # non_final_next_states의 행동들에 대한 기대값은 \"이전\" target_net을 기반으로 계산됨\n",
        "    # max(1)[0]으로 최고의 보상을 선택\n",
        "    # 마스크를 기반으로 병합되어 기대 상태 값을 갖거나 상태가 최종인 경우 0을 갖는다.\n",
        "    next_state_values = torch.zeros(BATCH_SIZE, device=device)\n",
        "    with torch.no_grad():\n",
        "        next_state_values[non_final_mask] = target_net(non_final_next_states).max(1)[0]\n",
        "    # 기대 Q 값 계산\n",
        "    expected_state_action_values = (next_state_values * GAMMA) + reward_batch\n",
        "\n",
        "    # Huber Loss 계산\n",
        "    criterion = nn.SmoothL1Loss()\n",
        "    loss = criterion(state_action_values, expected_state_action_values.unsqueeze(1))\n",
        "\n",
        "    # 모델 최적화\n",
        "    optimizer.zero_grad()\n",
        "    loss.backward()\n",
        "\n",
        "    torch.nn.utils.clip_grad_value_(policy_net.parameters(), 100) # 그래디언트를 특정 값(100)으로 제한\n",
        "    optimizer.step()"
      ],
      "metadata": {
        "id": "9dek5daCvXBf"
      },
      "execution_count": 7,
      "outputs": []
    },
    {
      "cell_type": "code",
      "source": [
        "if torch.cuda.is_available(): # GPU 사용 가능 여부에 따라 에피소드 수 설정\n",
        "    num_episodes = 600\n",
        "else:\n",
        "    num_episodes = 50\n",
        "\n",
        "for i_episode in range(num_episodes): # 설정한 에피소드 수만큼 반복\n",
        "    # 환경과 상태 초기화\n",
        "    state, info = env.reset()\n",
        "    state = torch.tensor(state, dtype=torch.float32, device=device).unsqueeze(0) # 초기 상태를 텐서로 변환후 차원을 추가해 입력 가능한 상태로 만들기\n",
        "    for t in count():\n",
        "        action = select_action(state) # 현재 상태에 따라 행동 선택\n",
        "        observation, reward, terminated, truncated, _ = env.step(action.item()) # 액션을 환경에 적용해 다음 관측, 보상, 종료 여부 얻기\n",
        "        reward = torch.tensor([reward], device=device) # 보상을 텐서로 변환\n",
        "        done = terminated or truncated # 에피소드가 종료되었거나 환경에서 강제 종료되었는지 여부 확인\n",
        "\n",
        "        if terminated:\n",
        "            next_state = None\n",
        "        else:\n",
        "            next_state = torch.tensor(observation, dtype=torch.float32, device=device).unsqueeze(0)\n",
        "\n",
        "        # 메모리에 변이 저장\n",
        "        memory.push(state, action, next_state, reward)\n",
        "\n",
        "        # 다음 상태로 이동\n",
        "        state = next_state\n",
        "\n",
        "        # (정책 네트워크에서) 최적화 한단계 수행\n",
        "        optimize_model()\n",
        "\n",
        "        # 목표 네트워크의 가중치를 소프트 업데이트\n",
        "        # 목표 네트워크의 가중치가 현재 정책 네트워크의 가중치를 부드럽게 따라가고, 학습의 안정성과 수렴 속도를 향상시킴\n",
        "        # θ′ ← τ θ + (1 −τ )θ′\n",
        "        target_net_state_dict = target_net.state_dict()\n",
        "        policy_net_state_dict = policy_net.state_dict()\n",
        "        for key in policy_net_state_dict:\n",
        "            target_net_state_dict[key] = policy_net_state_dict[key]*TAU + target_net_state_dict[key]*(1-TAU)\n",
        "        target_net.load_state_dict(target_net_state_dict)\n",
        "\n",
        "        if done:\n",
        "            episode_durations.append(t + 1) # 에피소드 지속 시간 리스트에 추가\n",
        "            plot_durations() # 현재까지 학습 결과 시각화\n",
        "            break\n",
        "\n",
        "print('Complete') # 모든 에피소드 완료\n",
        "plot_durations(show_result=True) # 학습 결과 최종 시각화\n",
        "plt.ioff() # 인터랙티브 모드 끄기\n",
        "plt.show() # 최종 결과 그래프 표시"
      ],
      "metadata": {
        "colab": {
          "base_uri": "https://localhost:8080/",
          "height": 527
        },
        "id": "aF5z1xl03CFh",
        "outputId": "0f4e1309-ca29-4284-f87f-139344a1986d"
      },
      "execution_count": 8,
      "outputs": [
        {
          "output_type": "stream",
          "name": "stdout",
          "text": [
            "Complete\n"
          ]
        },
        {
          "output_type": "display_data",
          "data": {
            "text/plain": [
              "<Figure size 640x480 with 1 Axes>"
            ],
            "image/png": "[encoded data removed]"
          },
          "metadata": {}
        },
        {
          "output_type": "display_data",
          "data": {
            "text/plain": [
              "<Figure size 640x480 with 0 Axes>"
            ]
          },
          "metadata": {}
        },
        {
          "output_type": "display_data",
          "data": {
            "text/plain": [
              "<Figure size 640x480 with 0 Axes>"
            ]
          },
          "metadata": {}
        }
      ]
    }
  ]
}