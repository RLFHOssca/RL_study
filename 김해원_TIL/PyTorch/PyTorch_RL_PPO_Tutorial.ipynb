{
  "nbformat": 4,
  "nbformat_minor": 0,
  "metadata": {
    "colab": {
      "provenance": [],
      "gpuType": "T4"
    },
    "kernelspec": {
      "name": "python3",
      "display_name": "Python 3"
    },
    "language_info": {
      "name": "python"
    },
    "accelerator": "GPU"
  },
  "cells": [
    {
      "cell_type": "code",
      "execution_count": 26,
      "metadata": {
        "colab": {
          "base_uri": "https://localhost:8080/"
        },
        "id": "t_AUV1nT_txp",
        "outputId": "6a6d4acf-9a32-426e-be76-2c9558ea3ccc"
      },
      "outputs": [
        {
          "output_type": "stream",
          "name": "stdout",
          "text": [
            "Requirement already satisfied: torchrl in /usr/local/lib/python3.10/dist-packages (0.1.1)\n",
            "Requirement already satisfied: torch in /usr/local/lib/python3.10/dist-packages (from torchrl) (2.0.1+cu118)\n",
            "Requirement already satisfied: numpy in /usr/local/lib/python3.10/dist-packages (from torchrl) (1.23.5)\n",
            "Requirement already satisfied: packaging in /usr/local/lib/python3.10/dist-packages (from torchrl) (23.1)\n",
            "Requirement already satisfied: cloudpickle in /usr/local/lib/python3.10/dist-packages (from torchrl) (2.2.1)\n",
            "Requirement already satisfied: tensordict>=0.1.1 in /usr/local/lib/python3.10/dist-packages (from torchrl) (0.1.2)\n",
            "Requirement already satisfied: filelock in /usr/local/lib/python3.10/dist-packages (from torch->torchrl) (3.12.2)\n",
            "Requirement already satisfied: typing-extensions in /usr/local/lib/python3.10/dist-packages (from torch->torchrl) (4.7.1)\n",
            "Requirement already satisfied: sympy in /usr/local/lib/python3.10/dist-packages (from torch->torchrl) (1.12)\n",
            "Requirement already satisfied: networkx in /usr/local/lib/python3.10/dist-packages (from torch->torchrl) (3.1)\n",
            "Requirement already satisfied: jinja2 in /usr/local/lib/python3.10/dist-packages (from torch->torchrl) (3.1.2)\n",
            "Requirement already satisfied: triton==2.0.0 in /usr/local/lib/python3.10/dist-packages (from torch->torchrl) (2.0.0)\n",
            "Requirement already satisfied: cmake in /usr/local/lib/python3.10/dist-packages (from triton==2.0.0->torch->torchrl) (3.27.2)\n",
            "Requirement already satisfied: lit in /usr/local/lib/python3.10/dist-packages (from triton==2.0.0->torch->torchrl) (16.0.6)\n",
            "Requirement already satisfied: MarkupSafe>=2.0 in /usr/local/lib/python3.10/dist-packages (from jinja2->torch->torchrl) (2.1.3)\n",
            "Requirement already satisfied: mpmath>=0.19 in /usr/local/lib/python3.10/dist-packages (from sympy->torch->torchrl) (1.3.0)\n",
            "Requirement already satisfied: gym[mujoco] in /usr/local/lib/python3.10/dist-packages (0.25.2)\n",
            "Requirement already satisfied: numpy>=1.18.0 in /usr/local/lib/python3.10/dist-packages (from gym[mujoco]) (1.23.5)\n",
            "Requirement already satisfied: cloudpickle>=1.2.0 in /usr/local/lib/python3.10/dist-packages (from gym[mujoco]) (2.2.1)\n",
            "Requirement already satisfied: gym-notices>=0.0.4 in /usr/local/lib/python3.10/dist-packages (from gym[mujoco]) (0.0.8)\n",
            "Requirement already satisfied: mujoco==2.2.0 in /usr/local/lib/python3.10/dist-packages (from gym[mujoco]) (2.2.0)\n",
            "Requirement already satisfied: imageio>=2.14.1 in /usr/local/lib/python3.10/dist-packages (from gym[mujoco]) (2.31.1)\n",
            "Requirement already satisfied: absl-py in /usr/local/lib/python3.10/dist-packages (from mujoco==2.2.0->gym[mujoco]) (1.4.0)\n",
            "Requirement already satisfied: glfw in /usr/local/lib/python3.10/dist-packages (from mujoco==2.2.0->gym[mujoco]) (2.6.2)\n",
            "Requirement already satisfied: pyopengl in /usr/local/lib/python3.10/dist-packages (from mujoco==2.2.0->gym[mujoco]) (3.1.7)\n",
            "Requirement already satisfied: pillow>=8.3.2 in /usr/local/lib/python3.10/dist-packages (from imageio>=2.14.1->gym[mujoco]) (9.4.0)\n"
          ]
        },
        {
          "output_type": "stream",
          "name": "stderr",
          "text": [
            "\reval cumulative reward:  92.4081 (init:  92.4081), eval step-count: 9, average reward= 9.1905 (init= 9.0759), step count (max): 25, lr policy:  0.0003:   8%|▊         | 4000/50000 [00:39<04:33, 168.20it/s]"
          ]
        },
        {
          "output_type": "stream",
          "name": "stdout",
          "text": [
            "Requirement already satisfied: tqdm in /usr/local/lib/python3.10/dist-packages (4.66.1)\n"
          ]
        }
      ],
      "source": [
        "!pip3 install torchrl\n",
        "!pip3 install gym[mujoco]\n",
        "!pip3 install tqdm"
      ]
    },
    {
      "cell_type": "code",
      "source": [
        "from collections import defaultdict\n",
        "\n",
        "import matplotlib.pyplot as plt\n",
        "import torch\n",
        "from tensordict.nn import TensorDictModule\n",
        "from tensordict.nn.distributions import NormalParamExtractor\n",
        "from torch import nn\n",
        "from torchrl.collectors import SyncDataCollector\n",
        "from torchrl.data.replay_buffers import ReplayBuffer\n",
        "from torchrl.data.replay_buffers.samplers import SamplerWithoutReplacement\n",
        "from torchrl.data.replay_buffers.storages import LazyTensorStorage\n",
        "from torchrl.envs import (Compose, DoubleToFloat, ObservationNorm, StepCounter,\n",
        "                          TransformedEnv)\n",
        "from torchrl.envs.libs.gym import GymEnv\n",
        "from torchrl.envs.utils import check_env_specs, set_exploration_mode\n",
        "from torchrl.modules import ProbabilisticActor, TanhNormal, ValueOperator\n",
        "from torchrl.objectives import ClipPPOLoss\n",
        "from torchrl.objectives.value import GAE\n",
        "from tqdm import tqdm"
      ],
      "metadata": {
        "id": "TallBZm6AUX4"
      },
      "execution_count": 27,
      "outputs": []
    },
    {
      "cell_type": "markdown",
      "source": [
        "## Define Hyperparameters"
      ],
      "metadata": {
        "id": "ZIocFOxDAYmM"
      }
    },
    {
      "cell_type": "code",
      "source": [
        "device = \"cpu\" if not torch.has_cuda else \"cuda:0\"\n",
        "num_cells = 256  # 레이어 당 셀의 개수\n",
        "lr = 3e-4\n",
        "max_grad_norm = 1.0 # 그래디언트 클리핑을 위한 최대 그래디언트 norm"
      ],
      "metadata": {
        "id": "JFZPap8yAcSd"
      },
      "execution_count": 28,
      "outputs": []
    },
    {
      "cell_type": "markdown",
      "source": [
        "### Data collection parameters\n"
      ],
      "metadata": {
        "id": "EPwX7ji0AsYL"
      }
    },
    {
      "cell_type": "code",
      "source": [
        "frame_skip = 1\n",
        "frames_per_batch = 1000 // frame_skip\n",
        "total_frames = 50_000 // frame_skip # 총 학습할 프레임 수"
      ],
      "metadata": {
        "id": "P_z3F1zrA2XC"
      },
      "execution_count": 29,
      "outputs": []
    },
    {
      "cell_type": "markdown",
      "source": [
        "### PPO parameters\n"
      ],
      "metadata": {
        "id": "zGD_1oeVBgiC"
      }
    },
    {
      "cell_type": "code",
      "source": [
        "sub_batch_size = 64  # 내부 루프(inner loop)에서 현재 데이터로부터 수집되는 서브 샘플의 기수(cardinality)\n",
        "num_epochs = 10  # 최적화 단계를 몇 번 반복할지\n",
        "clip_epsilon = (\n",
        "    0.2  # clip value for PPO loss\n",
        ")\n",
        "gamma = 0.99\n",
        "lmbda = 0.95\n",
        "entropy_eps = 1e-4"
      ],
      "metadata": {
        "id": "a1q-fpooBkCR"
      },
      "execution_count": 30,
      "outputs": []
    },
    {
      "cell_type": "markdown",
      "source": [
        "## Define an environment\n"
      ],
      "metadata": {
        "id": "kb6Cw0o5Ccir"
      }
    },
    {
      "cell_type": "code",
      "source": [
        "base_env = GymEnv(\"InvertedDoublePendulum-v4\", device=device, frame_skip=frame_skip)"
      ],
      "metadata": {
        "id": "0pa6Mwr5Cb9i"
      },
      "execution_count": 31,
      "outputs": []
    },
    {
      "cell_type": "markdown",
      "source": [
        "### Normalization"
      ],
      "metadata": {
        "id": "JFkpNiWWFXFX"
      }
    },
    {
      "cell_type": "code",
      "source": [
        "env = TransformedEnv(\n",
        "    base_env,\n",
        "    Compose(\n",
        "        # 관측값 정규화\n",
        "        ObservationNorm(in_keys=[\"observation\"]),\n",
        "        DoubleToFloat(in_keys=[\"observation\"]),\n",
        "        StepCounter(), # 환경이 종료되기 전까지 단계 카운트\n",
        "    ),\n",
        ")"
      ],
      "metadata": {
        "colab": {
          "base_uri": "https://localhost:8080/"
        },
        "id": "erLdKYHgCkIR",
        "outputId": "24ccc589-016b-4f34-a44d-f0ebe6e6fe99"
      },
      "execution_count": 32,
      "outputs": [
        {
          "output_type": "stream",
          "name": "stderr",
          "text": [
            "/usr/local/lib/python3.10/dist-packages/ipykernel/ipkernel.py:283: DeprecationWarning: `should_run_async` will not call `transform_cell` automatically in the future. Please pass the result to `transformed_cell` argument and any exception that happen during thetransform in `preprocessing_exc_tuple` in IPython 7.17 and above.\n",
            "  and should_run_async(code)\n"
          ]
        }
      ]
    },
    {
      "cell_type": "code",
      "source": [
        "env.transform[0].init_stats(num_iter=1000, reduce_dim=0, cat_dim=0)\n",
        "# reduce_dim : 정규화를 적용할 차원 지정, 0으로 설정 -> 첫 번째 차원\n",
        "# cat_dim=0 : 연속적인 데이터를 이어붙일 차원, 0으로 설정 -> 첫 번째 차원"
      ],
      "metadata": {
        "id": "4ZkuXMpLDNTe"
      },
      "execution_count": 33,
      "outputs": []
    },
    {
      "cell_type": "code",
      "source": [
        "print(\"normalization constant shape:\", env.transform[0].loc.shape)"
      ],
      "metadata": {
        "colab": {
          "base_uri": "https://localhost:8080/"
        },
        "id": "_Q8bU03GDQ9E",
        "outputId": "0e76a406-d84f-4560-b7f4-b040e9096177"
      },
      "execution_count": 34,
      "outputs": [
        {
          "output_type": "stream",
          "name": "stdout",
          "text": [
            "normalization constant shape: torch.Size([11])\n"
          ]
        }
      ]
    },
    {
      "cell_type": "code",
      "source": [
        "print(\"observation_spec:\", env.observation_spec) # 환경의 관측값에 대한 정보\n",
        "print(\"reward_spec:\", env.reward_spec) # 환경의 보상에 대한 정보\n",
        "print(\"input_spec:\", env.input_spec) # 환경의 입력에 대한 정보\n",
        "print(\"action_spec (as defined by input_spec):\", env.action_spec) # 환경의 행동에 대한 정보"
      ],
      "metadata": {
        "colab": {
          "base_uri": "https://localhost:8080/"
        },
        "id": "tWWNcXB_EQMe",
        "outputId": "e82ffbee-b9e2-47b0-be39-b7f0b6d5c702"
      },
      "execution_count": 35,
      "outputs": [
        {
          "output_type": "stream",
          "name": "stdout",
          "text": [
            "observation_spec: CompositeSpec(\n",
            "    observation: UnboundedContinuousTensorSpec(\n",
            "         shape=torch.Size([11]), space=None, device=cuda:0, dtype=torch.float32, domain=continuous),\n",
            "    step_count: UnboundedDiscreteTensorSpec(\n",
            "         shape=torch.Size([1]), space=ContinuousBox(minimum=Tensor(shape=torch.Size([1]), device=cuda:0, dtype=torch.int64, contiguous=True), maximum=Tensor(shape=torch.Size([1]), device=cuda:0, dtype=torch.int64, contiguous=True)), device=cuda:0, dtype=torch.int64, domain=continuous), device=cuda:0, shape=torch.Size([]))\n",
            "reward_spec: UnboundedContinuousTensorSpec(\n",
            "     shape=torch.Size([1]), space=ContinuousBox(minimum=Tensor(shape=torch.Size([]), device=cpu, dtype=torch.float32, contiguous=True), maximum=Tensor(shape=torch.Size([]), device=cpu, dtype=torch.float32, contiguous=True)), device=cuda:0, dtype=torch.float32, domain=continuous)\n",
            "input_spec: CompositeSpec(\n",
            "    action: BoundedTensorSpec(\n",
            "         shape=torch.Size([1]), space=ContinuousBox(minimum=Tensor(shape=torch.Size([1]), device=cuda:0, dtype=torch.float32, contiguous=True), maximum=Tensor(shape=torch.Size([1]), device=cuda:0, dtype=torch.float32, contiguous=True)), device=cuda:0, dtype=torch.float32, domain=continuous),\n",
            "    step_count: UnboundedDiscreteTensorSpec(\n",
            "         shape=torch.Size([1]), space=ContinuousBox(minimum=Tensor(shape=torch.Size([1]), device=cuda:0, dtype=torch.int64, contiguous=True), maximum=Tensor(shape=torch.Size([1]), device=cuda:0, dtype=torch.int64, contiguous=True)), device=cuda:0, dtype=torch.int64, domain=continuous), device=cuda:0, shape=torch.Size([]))\n",
            "action_spec (as defined by input_spec): BoundedTensorSpec(\n",
            "     shape=torch.Size([1]), space=ContinuousBox(minimum=Tensor(shape=torch.Size([1]), device=cuda:0, dtype=torch.float32, contiguous=True), maximum=Tensor(shape=torch.Size([1]), device=cuda:0, dtype=torch.float32, contiguous=True)), device=cuda:0, dtype=torch.float32, domain=continuous)\n"
          ]
        }
      ]
    },
    {
      "cell_type": "code",
      "source": [
        "check_env_specs(env) # 환경의 스펙이 올바르게 설정되었는지 확인"
      ],
      "metadata": {
        "colab": {
          "base_uri": "https://localhost:8080/"
        },
        "id": "U7lZKXrkESeo",
        "outputId": "8e5d0f4b-3a9e-4372-af5a-eac1e2ab2c01"
      },
      "execution_count": 36,
      "outputs": [
        {
          "output_type": "stream",
          "name": "stdout",
          "text": [
            "check_env_specs succeeded!\n"
          ]
        }
      ]
    },
    {
      "cell_type": "code",
      "source": [
        "rollout = env.rollout(3)\n",
        "print(\"rollout of three steps:\", rollout)\n",
        "print(\"Shape of the rollout TensorDict:\", rollout.batch_size)\n",
        "# next는 현재 단계 이후에 오는 데이터"
      ],
      "metadata": {
        "colab": {
          "base_uri": "https://localhost:8080/"
        },
        "id": "SL9omnztEUYg",
        "outputId": "f89469ba-cb12-4b1e-a067-ea3a708f7a72"
      },
      "execution_count": 37,
      "outputs": [
        {
          "output_type": "stream",
          "name": "stdout",
          "text": [
            "rollout of three steps: TensorDict(\n",
            "    fields={\n",
            "        action: Tensor(shape=torch.Size([3, 1]), device=cuda:0, dtype=torch.float32, is_shared=True),\n",
            "        done: Tensor(shape=torch.Size([3, 1]), device=cuda:0, dtype=torch.bool, is_shared=True),\n",
            "        next: TensorDict(\n",
            "            fields={\n",
            "                done: Tensor(shape=torch.Size([3, 1]), device=cuda:0, dtype=torch.bool, is_shared=True),\n",
            "                observation: Tensor(shape=torch.Size([3, 11]), device=cuda:0, dtype=torch.float32, is_shared=True),\n",
            "                reward: Tensor(shape=torch.Size([3, 1]), device=cuda:0, dtype=torch.float32, is_shared=True),\n",
            "                step_count: Tensor(shape=torch.Size([3, 1]), device=cuda:0, dtype=torch.int64, is_shared=True)},\n",
            "            batch_size=torch.Size([3]),\n",
            "            device=cuda:0,\n",
            "            is_shared=True),\n",
            "        observation: Tensor(shape=torch.Size([3, 11]), device=cuda:0, dtype=torch.float32, is_shared=True),\n",
            "        step_count: Tensor(shape=torch.Size([3, 1]), device=cuda:0, dtype=torch.int64, is_shared=True)},\n",
            "    batch_size=torch.Size([3]),\n",
            "    device=cuda:0,\n",
            "    is_shared=True)\n",
            "Shape of the rollout TensorDict: torch.Size([3])\n"
          ]
        }
      ]
    },
    {
      "cell_type": "markdown",
      "source": [
        "## Policy"
      ],
      "metadata": {
        "id": "orGbypAnFksu"
      }
    },
    {
      "cell_type": "code",
      "source": [
        "actor_net = nn.Sequential(\n",
        "    nn.LazyLinear(num_cells, device=device),\n",
        "    nn.Tanh(),\n",
        "    nn.LazyLinear(num_cells, device=device),\n",
        "    nn.Tanh(),\n",
        "    nn.LazyLinear(num_cells, device=device),\n",
        "    nn.Tanh(),\n",
        "    nn.LazyLinear(2 * env.action_spec.shape[-1], device=device),\n",
        "    NormalParamExtractor(), # 위치(loc)와 스케일(scale) 추출\n",
        ")"
      ],
      "metadata": {
        "colab": {
          "base_uri": "https://localhost:8080/"
        },
        "id": "T2Z_RCKWFnRr",
        "outputId": "19d85202-c9fa-46ba-ad53-4e1c45ec0596"
      },
      "execution_count": 38,
      "outputs": [
        {
          "output_type": "stream",
          "name": "stderr",
          "text": [
            "/usr/local/lib/python3.10/dist-packages/torch/nn/modules/lazy.py:180: UserWarning: Lazy modules are a new feature under heavy development so changes to the API or functionality can happen at any moment.\n",
            "  warnings.warn('Lazy modules are a new feature under heavy development '\n"
          ]
        }
      ]
    },
    {
      "cell_type": "code",
      "source": [
        "policy_module = TensorDictModule(\n",
        "    actor_net, in_keys=[\"observation\"], out_keys=[\"loc\", \"scale\"]\n",
        ")"
      ],
      "metadata": {
        "id": "ZBNLqwRWGGOF"
      },
      "execution_count": 39,
      "outputs": []
    },
    {
      "cell_type": "code",
      "source": [
        "policy_module = ProbabilisticActor(\n",
        "    module=policy_module,\n",
        "    spec=env.action_spec,\n",
        "    in_keys=[\"loc\", \"scale\"],\n",
        "    distribution_class=TanhNormal,\n",
        "    distribution_kwargs={\n",
        "        \"min\": env.action_spec.space.minimum,\n",
        "        \"max\": env.action_spec.space.maximum,\n",
        "    },\n",
        "    return_log_prob=True, # 로그 확률값을 반환할지 여부\n",
        "    # 중요도 가중치의 분자 부분에 로그 확률값이 필요함\n",
        ")"
      ],
      "metadata": {
        "id": "uBvmE5JBG8_o"
      },
      "execution_count": 40,
      "outputs": []
    },
    {
      "cell_type": "markdown",
      "source": [
        "## Value network"
      ],
      "metadata": {
        "id": "4WcINcR7HcX8"
      }
    },
    {
      "cell_type": "code",
      "source": [
        "# 환경의 관측값을 입력으로 받아 예상 리턴 값을 출력\n",
        "value_net = nn.Sequential(\n",
        "    nn.LazyLinear(num_cells, device=device),\n",
        "    nn.Tanh(),\n",
        "    nn.LazyLinear(num_cells, device=device),\n",
        "    nn.Tanh(),\n",
        "    nn.LazyLinear(num_cells, device=device),\n",
        "    nn.Tanh(),\n",
        "    nn.LazyLinear(1, device=device),\n",
        ")\n",
        "\n",
        "value_module = ValueOperator(\n",
        "    module=value_net,\n",
        "    in_keys=[\"observation\"], # 관측값을 입력으로 받음\n",
        ")"
      ],
      "metadata": {
        "id": "EQoEDupcHf73"
      },
      "execution_count": 41,
      "outputs": []
    },
    {
      "cell_type": "code",
      "source": [
        "print(\"Running policy:\", policy_module(env.reset()))\n",
        "print(\"Running value:\", value_module(env.reset()))"
      ],
      "metadata": {
        "colab": {
          "base_uri": "https://localhost:8080/"
        },
        "id": "3le9hEyMIOel",
        "outputId": "332acce8-5872-4ae1-9117-186a043bfcdb"
      },
      "execution_count": 42,
      "outputs": [
        {
          "output_type": "stream",
          "name": "stdout",
          "text": [
            "Running policy: TensorDict(\n",
            "    fields={\n",
            "        action: Tensor(shape=torch.Size([1]), device=cuda:0, dtype=torch.float32, is_shared=True),\n",
            "        done: Tensor(shape=torch.Size([1]), device=cuda:0, dtype=torch.bool, is_shared=True),\n",
            "        loc: Tensor(shape=torch.Size([1]), device=cuda:0, dtype=torch.float32, is_shared=True),\n",
            "        observation: Tensor(shape=torch.Size([11]), device=cuda:0, dtype=torch.float32, is_shared=True),\n",
            "        sample_log_prob: Tensor(shape=torch.Size([]), device=cuda:0, dtype=torch.float32, is_shared=True),\n",
            "        scale: Tensor(shape=torch.Size([1]), device=cuda:0, dtype=torch.float32, is_shared=True),\n",
            "        step_count: Tensor(shape=torch.Size([1]), device=cuda:0, dtype=torch.int64, is_shared=True)},\n",
            "    batch_size=torch.Size([]),\n",
            "    device=cuda:0,\n",
            "    is_shared=True)\n",
            "Running value: TensorDict(\n",
            "    fields={\n",
            "        done: Tensor(shape=torch.Size([1]), device=cuda:0, dtype=torch.bool, is_shared=True),\n",
            "        observation: Tensor(shape=torch.Size([11]), device=cuda:0, dtype=torch.float32, is_shared=True),\n",
            "        state_value: Tensor(shape=torch.Size([1]), device=cuda:0, dtype=torch.float32, is_shared=True),\n",
            "        step_count: Tensor(shape=torch.Size([1]), device=cuda:0, dtype=torch.int64, is_shared=True)},\n",
            "    batch_size=torch.Size([]),\n",
            "    device=cuda:0,\n",
            "    is_shared=True)\n"
          ]
        }
      ]
    },
    {
      "cell_type": "markdown",
      "source": [
        "## Data collector"
      ],
      "metadata": {
        "id": "nJ36T2PUIWhw"
      }
    },
    {
      "cell_type": "code",
      "source": [
        "collector = SyncDataCollector(\n",
        "    env,\n",
        "    policy_module,\n",
        "    frames_per_batch=frames_per_batch, # 각 반복마다 수집할 프레임 수\n",
        "    total_frames=total_frames,\n",
        "    split_trajs=False,\n",
        "    device=device,\n",
        ")"
      ],
      "metadata": {
        "id": "XCjtOtOfIXkA"
      },
      "execution_count": 43,
      "outputs": []
    },
    {
      "cell_type": "markdown",
      "source": [
        "## Replay buffer\n"
      ],
      "metadata": {
        "id": "GgN7gzrRI9kg"
      }
    },
    {
      "cell_type": "code",
      "source": [
        "replay_buffer = ReplayBuffer(\n",
        "    storage=LazyTensorStorage(frames_per_batch),\n",
        "    sampler=SamplerWithoutReplacement(), # 같은 항목이 중복되지 않고 샘플링\n",
        ")"
      ],
      "metadata": {
        "id": "vXfXXLYtI--Z"
      },
      "execution_count": 44,
      "outputs": []
    },
    {
      "cell_type": "markdown",
      "source": [
        "## Loss function"
      ],
      "metadata": {
        "id": "RarCB945JLu2"
      }
    },
    {
      "cell_type": "code",
      "source": [
        "advantage_module = GAE(\n",
        "    gamma=gamma, lmbda=lmbda, value_network=value_module, average_gae=True\n",
        ")\n",
        "\n",
        "loss_module = ClipPPOLoss(\n",
        "    actor=policy_module,\n",
        "    critic=value_module,\n",
        "    advantage_key=\"advantage\",\n",
        "    clip_epsilon=clip_epsilon,\n",
        "    entropy_bonus=bool(entropy_eps),\n",
        "    entropy_coef=entropy_eps,\n",
        "    value_target_key=advantage_module.value_target_key,\n",
        "    critic_coef=1.0,\n",
        "    gamma=0.99,\n",
        "    loss_critic_type=\"smooth_l1\",\n",
        ")\n",
        "\n",
        "optim = torch.optim.Adam(loss_module.parameters(), lr)\n",
        "scheduler = torch.optim.lr_scheduler.CosineAnnealingLR(\n",
        "    optim, total_frames // frames_per_batch, 0.0\n",
        ")"
      ],
      "metadata": {
        "colab": {
          "base_uri": "https://localhost:8080/"
        },
        "id": "uN-xDe6iJNl0",
        "outputId": "cf77a4b5-944c-4ad0-ab06-d02cef05ece8"
      },
      "execution_count": 45,
      "outputs": [
        {
          "output_type": "stream",
          "name": "stderr",
          "text": [
            "/usr/local/lib/python3.10/dist-packages/torchrl/objectives/ppo.py:163: DeprecationWarning: Passing gamma / lambda parameters through the loss constructor is deprecated and will be removed soon. To customize your value function, run `loss_module.make_value_estimator(ValueEstimators.<value_fun>, gamma=val)`.\n",
            "  warnings.warn(_GAMMA_LMBDA_DEPREC_WARNING, category=DeprecationWarning)\n"
          ]
        }
      ]
    },
    {
      "cell_type": "markdown",
      "source": [
        "## Training loop"
      ],
      "metadata": {
        "id": "BpoxOF8GJ74I"
      }
    },
    {
      "cell_type": "code",
      "source": [
        "logs = defaultdict(list)\n",
        "pbar = tqdm(total=total_frames * frame_skip) # 진행 상황 파악\n",
        "eval_str = \"\" # 평가 결과 문자열 저장\n",
        "\n",
        "# collector를 total_frames로 지정된 총 프레임 수에 도달할 때까지 반복\n",
        "for i, tensordict_data in enumerate(collector):\n",
        "    for _ in range(num_epochs):\n",
        "        # PPO를 작동시키기 위해 어드밴티지 신호가 필요함\n",
        "        # 각 에포크마다 어드밴티지를 다시 계산함\n",
        "        advantage_module(tensordict_data)\n",
        "        data_view = tensordict_data.reshape(-1)\n",
        "        replay_buffer.extend(data_view.cpu())\n",
        "        for _ in range(frames_per_batch // sub_batch_size):\n",
        "            subdata = replay_buffer.sample(sub_batch_size)\n",
        "            loss_vals = loss_module(subdata.to(device))\n",
        "            loss_value = (\n",
        "                loss_vals[\"loss_objective\"]\n",
        "                + loss_vals[\"loss_critic\"]\n",
        "                + loss_vals[\"loss_entropy\"]\n",
        "            )\n",
        "\n",
        "            # 최적화: 역전파, 그래디언트 클리핑, 최적화 단계\n",
        "            loss_value.backward()\n",
        "            # 그래디언트 크기 제한은 필수적인 것은 아니지만, 그래디언트 크기를 제한하는 것이 좋음\n",
        "            torch.nn.utils.clip_grad_norm_(loss_module.parameters(), max_grad_norm)\n",
        "            optim.step()\n",
        "            optim.zero_grad()\n",
        "\n",
        "    logs[\"reward\"].append(tensordict_data[\"next\", \"reward\"].mean().item())\n",
        "    pbar.update(tensordict_data.numel() * frame_skip)\n",
        "    cum_reward_str = (\n",
        "        f\"average reward={logs['reward'][-1]: 4.4f} (init={logs['reward'][0]: 4.4f})\"\n",
        "    )\n",
        "    logs[\"step_count\"].append(tensordict_data[\"step_count\"].max().item())\n",
        "    stepcount_str = f\"step count (max): {logs['step_count'][-1]}\"\n",
        "    logs[\"lr\"].append(optim.param_groups[0][\"lr\"])\n",
        "    lr_str = f\"lr policy: {logs['lr'][-1]: 4.4f}\"\n",
        "    if i % 10 == 0:\n",
        "        # 매 10 배치마다 정책 평가\n",
        "        # 평가 방식 : 탐색 없이 정책을 실행하여 (행동 분포의 기대값을 사용) 주어진 스텝 수 동안 실행\n",
        "        # env의 rollout 메서드는 정책을 인자로 받아서 각 단계에서 이 정책을 실행함\n",
        "        with set_exploration_mode(\"mean\"), torch.no_grad():\n",
        "            # 훈련된 정책으로 롤아웃 실행\n",
        "            eval_rollout = env.rollout(1000, policy_module)\n",
        "            logs[\"eval reward\"].append(eval_rollout[\"next\", \"reward\"].mean().item())\n",
        "            logs[\"eval reward (sum)\"].append(\n",
        "                eval_rollout[\"next\", \"reward\"].sum().item()\n",
        "            )\n",
        "            logs[\"eval step_count\"].append(eval_rollout[\"step_count\"].max().item())\n",
        "            eval_str = (\n",
        "                f\"eval cumulative reward: {logs['eval reward (sum)'][-1]: 4.4f} \"\n",
        "                f\"(init: {logs['eval reward (sum)'][0]: 4.4f}), \"\n",
        "                f\"eval step-count: {logs['eval step_count'][-1]}\"\n",
        "            )\n",
        "            del eval_rollout\n",
        "    pbar.set_description(\", \".join([eval_str, cum_reward_str, stepcount_str, lr_str]))\n",
        "\n",
        "    scheduler.step()"
      ],
      "metadata": {
        "colab": {
          "base_uri": "https://localhost:8080/"
        },
        "id": "CFgMItRxJ8yj",
        "outputId": "fa4f8d71-c7a4-4d55-cdef-e26bc12f2742"
      },
      "execution_count": 46,
      "outputs": [
        {
          "output_type": "stream",
          "name": "stderr",
          "text": [
            "\n",
            "eval cumulative reward:  92.4081 (init:  92.4081), eval step-count: 9, average reward= 9.1905 (init= 9.0759), step count (max): 25, lr policy:  0.0003:   8%|▊         | 4000/50000 [00:48<09:19, 82.23it/s] \n",
            "\n",
            "  2%|▏         | 1000/50000 [00:08<06:32, 124.94it/s]\u001b[A/usr/local/lib/python3.10/dist-packages/tensordict/nn/probabilistic.py:79: DeprecationWarning: set_interaction_mode is deprecated for naming clarity. Please use set_interaction_type with InteractionType enum instead.\n",
            "  _insert_interaction_mode_deprecation_warning(\"set_\")\n",
            "\n",
            "eval cumulative reward:  110.9682 (init:  110.9682), eval step-count: 11, average reward= 9.0762 (init= 9.0762), step count (max): 15, lr policy:  0.0003:   2%|▏         | 1000/50000 [00:08<06:32, 124.94it/s]\u001b[A\n",
            "eval cumulative reward:  110.9682 (init:  110.9682), eval step-count: 11, average reward= 9.0762 (init= 9.0762), step count (max): 15, lr policy:  0.0003:   2%|▏         | 1000/50000 [00:21<06:32, 124.94it/s]\u001b[A\n",
            "eval cumulative reward:  110.9682 (init:  110.9682), eval step-count: 11, average reward= 9.0762 (init= 9.0762), step count (max): 15, lr policy:  0.0003:   4%|▍         | 2000/50000 [00:21<09:01, 88.60it/s] \u001b[A\n",
            "eval cumulative reward:  110.9682 (init:  110.9682), eval step-count: 11, average reward= 9.1140 (init= 9.0762), step count (max): 16, lr policy:  0.0003:   4%|▍         | 2000/50000 [00:21<09:01, 88.60it/s]\u001b[A\n",
            "eval cumulative reward:  110.9682 (init:  110.9682), eval step-count: 11, average reward= 9.1140 (init= 9.0762), step count (max): 16, lr policy:  0.0003:   6%|▌         | 3000/50000 [00:30<07:52, 99.45it/s]\u001b[A\n",
            "eval cumulative reward:  110.9682 (init:  110.9682), eval step-count: 11, average reward= 9.1567 (init= 9.0762), step count (max): 16, lr policy:  0.0003:   6%|▌         | 3000/50000 [00:30<07:52, 99.45it/s]\u001b[A\n",
            "eval cumulative reward:  110.9682 (init:  110.9682), eval step-count: 11, average reward= 9.1567 (init= 9.0762), step count (max): 16, lr policy:  0.0003:   8%|▊         | 4000/50000 [00:36<06:32, 117.17it/s]\u001b[A\n",
            "eval cumulative reward:  110.9682 (init:  110.9682), eval step-count: 11, average reward= 9.1891 (init= 9.0762), step count (max): 26, lr policy:  0.0003:   8%|▊         | 4000/50000 [00:36<06:32, 117.17it/s]\u001b[A\n",
            "eval cumulative reward:  110.9682 (init:  110.9682), eval step-count: 11, average reward= 9.1891 (init= 9.0762), step count (max): 26, lr policy:  0.0003:  10%|█         | 5000/50000 [00:41<05:33, 134.95it/s]\u001b[A\n",
            "eval cumulative reward:  110.9682 (init:  110.9682), eval step-count: 11, average reward= 9.2097 (init= 9.0762), step count (max): 24, lr policy:  0.0003:  10%|█         | 5000/50000 [00:41<05:33, 134.95it/s]\u001b[A\n",
            "eval cumulative reward:  110.9682 (init:  110.9682), eval step-count: 11, average reward= 9.2097 (init= 9.0762), step count (max): 24, lr policy:  0.0003:  12%|█▏        | 6000/50000 [00:47<05:03, 145.07it/s]\u001b[A\n",
            "eval cumulative reward:  110.9682 (init:  110.9682), eval step-count: 11, average reward= 9.2296 (init= 9.0762), step count (max): 28, lr policy:  0.0003:  12%|█▏        | 6000/50000 [00:47<05:03, 145.07it/s]\u001b[A\n",
            "eval cumulative reward:  110.9682 (init:  110.9682), eval step-count: 11, average reward= 9.2296 (init= 9.0762), step count (max): 28, lr policy:  0.0003:  14%|█▍        | 7000/50000 [00:53<04:44, 151.10it/s]\u001b[A\n",
            "eval cumulative reward:  110.9682 (init:  110.9682), eval step-count: 11, average reward= 9.2279 (init= 9.0762), step count (max): 31, lr policy:  0.0003:  14%|█▍        | 7000/50000 [00:53<04:44, 151.10it/s]\u001b[A\n",
            "eval cumulative reward:  110.9682 (init:  110.9682), eval step-count: 11, average reward= 9.2279 (init= 9.0762), step count (max): 31, lr policy:  0.0003:  16%|█▌        | 8000/50000 [00:59<04:23, 159.42it/s]\u001b[A\n",
            "eval cumulative reward:  110.9682 (init:  110.9682), eval step-count: 11, average reward= 9.2446 (init= 9.0762), step count (max): 35, lr policy:  0.0003:  16%|█▌        | 8000/50000 [00:59<04:23, 159.42it/s]\u001b[A\n",
            "eval cumulative reward:  110.9682 (init:  110.9682), eval step-count: 11, average reward= 9.2446 (init= 9.0762), step count (max): 35, lr policy:  0.0003:  18%|█▊        | 9000/50000 [01:05<04:19, 157.81it/s]\u001b[A\n",
            "eval cumulative reward:  110.9682 (init:  110.9682), eval step-count: 11, average reward= 9.2468 (init= 9.0762), step count (max): 36, lr policy:  0.0003:  18%|█▊        | 9000/50000 [01:05<04:19, 157.81it/s]\u001b[A\n",
            "eval cumulative reward:  110.9682 (init:  110.9682), eval step-count: 11, average reward= 9.2468 (init= 9.0762), step count (max): 36, lr policy:  0.0003:  20%|██        | 10000/50000 [01:14<04:37, 144.33it/s]\u001b[A\n",
            "eval cumulative reward:  110.9682 (init:  110.9682), eval step-count: 11, average reward= 9.2588 (init= 9.0762), step count (max): 43, lr policy:  0.0003:  20%|██        | 10000/50000 [01:14<04:37, 144.33it/s]\u001b[A\n",
            "eval cumulative reward:  110.9682 (init:  110.9682), eval step-count: 11, average reward= 9.2588 (init= 9.0762), step count (max): 43, lr policy:  0.0003:  22%|██▏       | 11000/50000 [01:20<04:30, 144.32it/s]\u001b[A\n",
            "eval cumulative reward:  287.8150 (init:  110.9682), eval step-count: 30, average reward= 9.2557 (init= 9.0762), step count (max): 49, lr policy:  0.0003:  22%|██▏       | 11000/50000 [01:21<04:30, 144.32it/s]\u001b[A\n",
            "eval cumulative reward:  287.8150 (init:  110.9682), eval step-count: 30, average reward= 9.2557 (init= 9.0762), step count (max): 49, lr policy:  0.0003:  24%|██▍       | 12000/50000 [01:29<04:40, 135.36it/s]\u001b[A\n",
            "eval cumulative reward:  287.8150 (init:  110.9682), eval step-count: 30, average reward= 9.2714 (init= 9.0762), step count (max): 54, lr policy:  0.0003:  24%|██▍       | 12000/50000 [01:29<04:40, 135.36it/s]\u001b[A\n",
            "eval cumulative reward:  287.8150 (init:  110.9682), eval step-count: 30, average reward= 9.2714 (init= 9.0762), step count (max): 54, lr policy:  0.0003:  26%|██▌       | 13000/50000 [01:35<04:14, 145.29it/s]\u001b[A\n",
            "eval cumulative reward:  287.8150 (init:  110.9682), eval step-count: 30, average reward= 9.2614 (init= 9.0762), step count (max): 54, lr policy:  0.0003:  26%|██▌       | 13000/50000 [01:35<04:14, 145.29it/s]\u001b[A\n",
            "eval cumulative reward:  287.8150 (init:  110.9682), eval step-count: 30, average reward= 9.2614 (init= 9.0762), step count (max): 54, lr policy:  0.0003:  28%|██▊       | 14000/50000 [01:42<04:10, 143.92it/s]\u001b[A\n",
            "eval cumulative reward:  287.8150 (init:  110.9682), eval step-count: 30, average reward= 9.2772 (init= 9.0762), step count (max): 66, lr policy:  0.0003:  28%|██▊       | 14000/50000 [01:42<04:10, 143.92it/s]\u001b[A\n",
            "eval cumulative reward:  287.8150 (init:  110.9682), eval step-count: 30, average reward= 9.2772 (init= 9.0762), step count (max): 66, lr policy:  0.0003:  30%|███       | 15000/50000 [01:48<03:51, 151.09it/s]\u001b[A\n",
            "eval cumulative reward:  287.8150 (init:  110.9682), eval step-count: 30, average reward= 9.2572 (init= 9.0762), step count (max): 47, lr policy:  0.0002:  30%|███       | 15000/50000 [01:48<03:51, 151.09it/s]\u001b[A\n",
            "eval cumulative reward:  287.8150 (init:  110.9682), eval step-count: 30, average reward= 9.2572 (init= 9.0762), step count (max): 47, lr policy:  0.0002:  32%|███▏      | 16000/50000 [01:54<03:42, 152.64it/s]\u001b[A\n",
            "eval cumulative reward:  287.8150 (init:  110.9682), eval step-count: 30, average reward= 9.2701 (init= 9.0762), step count (max): 59, lr policy:  0.0002:  32%|███▏      | 16000/50000 [01:54<03:42, 152.64it/s]\u001b[A\n",
            "eval cumulative reward:  287.8150 (init:  110.9682), eval step-count: 30, average reward= 9.2701 (init= 9.0762), step count (max): 59, lr policy:  0.0002:  34%|███▍      | 17000/50000 [01:59<03:23, 161.86it/s]\u001b[A\n",
            "eval cumulative reward:  287.8150 (init:  110.9682), eval step-count: 30, average reward= 9.2726 (init= 9.0762), step count (max): 62, lr policy:  0.0002:  34%|███▍      | 17000/50000 [01:59<03:23, 161.86it/s]\u001b[A\n",
            "eval cumulative reward:  287.8150 (init:  110.9682), eval step-count: 30, average reward= 9.2726 (init= 9.0762), step count (max): 62, lr policy:  0.0002:  36%|███▌      | 18000/50000 [02:06<03:19, 160.15it/s]\u001b[A\n",
            "eval cumulative reward:  287.8150 (init:  110.9682), eval step-count: 30, average reward= 9.2594 (init= 9.0762), step count (max): 56, lr policy:  0.0002:  36%|███▌      | 18000/50000 [02:06<03:19, 160.15it/s]\u001b[A\n",
            "eval cumulative reward:  287.8150 (init:  110.9682), eval step-count: 30, average reward= 9.2594 (init= 9.0762), step count (max): 56, lr policy:  0.0002:  38%|███▊      | 19000/50000 [02:11<03:06, 166.40it/s]\u001b[A\n",
            "eval cumulative reward:  287.8150 (init:  110.9682), eval step-count: 30, average reward= 9.2616 (init= 9.0762), step count (max): 49, lr policy:  0.0002:  38%|███▊      | 19000/50000 [02:11<03:06, 166.40it/s]\u001b[A\n",
            "eval cumulative reward:  287.8150 (init:  110.9682), eval step-count: 30, average reward= 9.2616 (init= 9.0762), step count (max): 49, lr policy:  0.0002:  40%|████      | 20000/50000 [02:18<03:07, 159.90it/s]\u001b[A\n",
            "eval cumulative reward:  287.8150 (init:  110.9682), eval step-count: 30, average reward= 9.2811 (init= 9.0762), step count (max): 80, lr policy:  0.0002:  40%|████      | 20000/50000 [02:18<03:07, 159.90it/s]\u001b[A\n",
            "eval cumulative reward:  287.8150 (init:  110.9682), eval step-count: 30, average reward= 9.2811 (init= 9.0762), step count (max): 80, lr policy:  0.0002:  42%|████▏     | 21000/50000 [02:24<02:57, 163.25it/s]\u001b[A\n",
            "eval cumulative reward:  353.4242 (init:  110.9682), eval step-count: 37, average reward= 9.2872 (init= 9.0762), step count (max): 68, lr policy:  0.0002:  42%|████▏     | 21000/50000 [02:24<02:57, 163.25it/s]\u001b[A\n",
            "eval cumulative reward:  353.4242 (init:  110.9682), eval step-count: 37, average reward= 9.2872 (init= 9.0762), step count (max): 68, lr policy:  0.0002:  44%|████▍     | 22000/50000 [02:31<03:01, 154.10it/s]\u001b[A\n",
            "eval cumulative reward:  353.4242 (init:  110.9682), eval step-count: 37, average reward= 9.2978 (init= 9.0762), step count (max): 91, lr policy:  0.0002:  44%|████▍     | 22000/50000 [02:31<03:01, 154.10it/s]\u001b[A\n",
            "eval cumulative reward:  353.4242 (init:  110.9682), eval step-count: 37, average reward= 9.2978 (init= 9.0762), step count (max): 91, lr policy:  0.0002:  46%|████▌     | 23000/50000 [02:37<02:52, 156.51it/s]\u001b[A\n",
            "eval cumulative reward:  353.4242 (init:  110.9682), eval step-count: 37, average reward= 9.2941 (init= 9.0762), step count (max): 75, lr policy:  0.0002:  46%|████▌     | 23000/50000 [02:37<02:52, 156.51it/s]\u001b[A\n",
            "eval cumulative reward:  353.4242 (init:  110.9682), eval step-count: 37, average reward= 9.2941 (init= 9.0762), step count (max): 75, lr policy:  0.0002:  48%|████▊     | 24000/50000 [02:43<02:43, 159.32it/s]\u001b[A\n",
            "eval cumulative reward:  353.4242 (init:  110.9682), eval step-count: 37, average reward= 9.2925 (init= 9.0762), step count (max): 92, lr policy:  0.0002:  48%|████▊     | 24000/50000 [02:43<02:43, 159.32it/s]\u001b[A\n",
            "eval cumulative reward:  353.4242 (init:  110.9682), eval step-count: 37, average reward= 9.2925 (init= 9.0762), step count (max): 92, lr policy:  0.0002:  50%|█████     | 25000/50000 [02:49<02:30, 165.78it/s]\u001b[A\n",
            "eval cumulative reward:  353.4242 (init:  110.9682), eval step-count: 37, average reward= 9.2900 (init= 9.0762), step count (max): 57, lr policy:  0.0002:  50%|█████     | 25000/50000 [02:49<02:30, 165.78it/s]\u001b[A\n",
            "eval cumulative reward:  353.4242 (init:  110.9682), eval step-count: 37, average reward= 9.2900 (init= 9.0762), step count (max): 57, lr policy:  0.0002:  52%|█████▏    | 26000/50000 [02:55<02:27, 162.65it/s]\u001b[A\n",
            "eval cumulative reward:  353.4242 (init:  110.9682), eval step-count: 37, average reward= 9.2895 (init= 9.0762), step count (max): 63, lr policy:  0.0001:  52%|█████▏    | 26000/50000 [02:55<02:27, 162.65it/s]\u001b[A\n",
            "eval cumulative reward:  353.4242 (init:  110.9682), eval step-count: 37, average reward= 9.2895 (init= 9.0762), step count (max): 63, lr policy:  0.0001:  54%|█████▍    | 27000/50000 [03:01<02:18, 166.36it/s]\u001b[A\n",
            "eval cumulative reward:  353.4242 (init:  110.9682), eval step-count: 37, average reward= 9.2946 (init= 9.0762), step count (max): 90, lr policy:  0.0001:  54%|█████▍    | 27000/50000 [03:01<02:18, 166.36it/s]\u001b[A\n",
            "eval cumulative reward:  353.4242 (init:  110.9682), eval step-count: 37, average reward= 9.2946 (init= 9.0762), step count (max): 90, lr policy:  0.0001:  56%|█████▌    | 28000/50000 [03:07<02:14, 163.64it/s]\u001b[A\n",
            "eval cumulative reward:  353.4242 (init:  110.9682), eval step-count: 37, average reward= 9.2958 (init= 9.0762), step count (max): 77, lr policy:  0.0001:  56%|█████▌    | 28000/50000 [03:07<02:14, 163.64it/s]\u001b[A\n",
            "eval cumulative reward:  353.4242 (init:  110.9682), eval step-count: 37, average reward= 9.2958 (init= 9.0762), step count (max): 77, lr policy:  0.0001:  58%|█████▊    | 29000/50000 [03:12<02:02, 170.86it/s]\u001b[A\n",
            "eval cumulative reward:  353.4242 (init:  110.9682), eval step-count: 37, average reward= 9.2849 (init= 9.0762), step count (max): 60, lr policy:  0.0001:  58%|█████▊    | 29000/50000 [03:12<02:02, 170.86it/s]\u001b[A\n",
            "eval cumulative reward:  353.4242 (init:  110.9682), eval step-count: 37, average reward= 9.2849 (init= 9.0762), step count (max): 60, lr policy:  0.0001:  60%|██████    | 30000/50000 [03:18<01:57, 169.74it/s]\u001b[A\n",
            "eval cumulative reward:  353.4242 (init:  110.9682), eval step-count: 37, average reward= 9.2871 (init= 9.0762), step count (max): 83, lr policy:  0.0001:  60%|██████    | 30000/50000 [03:18<01:57, 169.74it/s]\u001b[A\n",
            "eval cumulative reward:  353.4242 (init:  110.9682), eval step-count: 37, average reward= 9.2871 (init= 9.0762), step count (max): 83, lr policy:  0.0001:  62%|██████▏   | 31000/50000 [03:24<01:50, 172.68it/s]\u001b[A\n",
            "eval cumulative reward:  343.6726 (init:  110.9682), eval step-count: 36, average reward= 9.2828 (init= 9.0762), step count (max): 65, lr policy:  0.0001:  62%|██████▏   | 31000/50000 [03:24<01:50, 172.68it/s]\u001b[A\n",
            "eval cumulative reward:  343.6726 (init:  110.9682), eval step-count: 36, average reward= 9.2828 (init= 9.0762), step count (max): 65, lr policy:  0.0001:  64%|██████▍   | 32000/50000 [03:31<01:49, 164.47it/s]\u001b[A\n",
            "eval cumulative reward:  343.6726 (init:  110.9682), eval step-count: 36, average reward= 9.2908 (init= 9.0762), step count (max): 79, lr policy:  0.0001:  64%|██████▍   | 32000/50000 [03:31<01:49, 164.47it/s]\u001b[A\n",
            "eval cumulative reward:  343.6726 (init:  110.9682), eval step-count: 36, average reward= 9.2908 (init= 9.0762), step count (max): 79, lr policy:  0.0001:  66%|██████▌   | 33000/50000 [03:38<01:49, 155.01it/s]\u001b[A\n",
            "eval cumulative reward:  343.6726 (init:  110.9682), eval step-count: 36, average reward= 9.2993 (init= 9.0762), step count (max): 79, lr policy:  0.0001:  66%|██████▌   | 33000/50000 [03:38<01:49, 155.01it/s]\u001b[A\n",
            "eval cumulative reward:  343.6726 (init:  110.9682), eval step-count: 36, average reward= 9.2993 (init= 9.0762), step count (max): 79, lr policy:  0.0001:  68%|██████▊   | 34000/50000 [03:45<01:46, 150.53it/s]\u001b[A\n",
            "eval cumulative reward:  343.6726 (init:  110.9682), eval step-count: 36, average reward= 9.3032 (init= 9.0762), step count (max): 98, lr policy:  0.0001:  68%|██████▊   | 34000/50000 [03:45<01:46, 150.53it/s]\u001b[A\n",
            "eval cumulative reward:  343.6726 (init:  110.9682), eval step-count: 36, average reward= 9.3032 (init= 9.0762), step count (max): 98, lr policy:  0.0001:  70%|███████   | 35000/50000 [03:51<01:38, 152.65it/s]\u001b[A\n",
            "eval cumulative reward:  343.6726 (init:  110.9682), eval step-count: 36, average reward= 9.3078 (init= 9.0762), step count (max): 117, lr policy:  0.0001:  70%|███████   | 35000/50000 [03:51<01:38, 152.65it/s]\u001b[A\n",
            "eval cumulative reward:  343.6726 (init:  110.9682), eval step-count: 36, average reward= 9.3078 (init= 9.0762), step count (max): 117, lr policy:  0.0001:  72%|███████▏  | 36000/50000 [03:59<01:34, 147.85it/s]\u001b[A\n",
            "eval cumulative reward:  343.6726 (init:  110.9682), eval step-count: 36, average reward= 9.2997 (init= 9.0762), step count (max): 105, lr policy:  0.0001:  72%|███████▏  | 36000/50000 [03:59<01:34, 147.85it/s]\u001b[A\n",
            "eval cumulative reward:  343.6726 (init:  110.9682), eval step-count: 36, average reward= 9.2997 (init= 9.0762), step count (max): 105, lr policy:  0.0001:  74%|███████▍  | 37000/50000 [04:05<01:25, 152.38it/s]\u001b[A\n",
            "eval cumulative reward:  343.6726 (init:  110.9682), eval step-count: 36, average reward= 9.3038 (init= 9.0762), step count (max): 108, lr policy:  0.0001:  74%|███████▍  | 37000/50000 [04:05<01:25, 152.38it/s]\u001b[A\n",
            "eval cumulative reward:  343.6726 (init:  110.9682), eval step-count: 36, average reward= 9.3038 (init= 9.0762), step count (max): 108, lr policy:  0.0001:  76%|███████▌  | 38000/50000 [04:12<01:19, 151.35it/s]\u001b[A\n",
            "eval cumulative reward:  343.6726 (init:  110.9682), eval step-count: 36, average reward= 9.3061 (init= 9.0762), step count (max): 141, lr policy:  0.0000:  76%|███████▌  | 38000/50000 [04:12<01:19, 151.35it/s]\u001b[A\n",
            "eval cumulative reward:  343.6726 (init:  110.9682), eval step-count: 36, average reward= 9.3061 (init= 9.0762), step count (max): 141, lr policy:  0.0000:  78%|███████▊  | 39000/50000 [04:17<01:07, 161.91it/s]\u001b[A\n",
            "eval cumulative reward:  343.6726 (init:  110.9682), eval step-count: 36, average reward= 9.3179 (init= 9.0762), step count (max): 119, lr policy:  0.0000:  78%|███████▊  | 39000/50000 [04:17<01:07, 161.91it/s]\u001b[A\n",
            "eval cumulative reward:  343.6726 (init:  110.9682), eval step-count: 36, average reward= 9.3179 (init= 9.0762), step count (max): 119, lr policy:  0.0000:  80%|████████  | 40000/50000 [04:23<01:00, 164.22it/s]\u001b[A\n",
            "eval cumulative reward:  343.6726 (init:  110.9682), eval step-count: 36, average reward= 9.3130 (init= 9.0762), step count (max): 166, lr policy:  0.0000:  80%|████████  | 40000/50000 [04:23<01:00, 164.22it/s]\u001b[A\n",
            "eval cumulative reward:  343.6726 (init:  110.9682), eval step-count: 36, average reward= 9.3130 (init= 9.0762), step count (max): 166, lr policy:  0.0000:  82%|████████▏ | 41000/50000 [04:28<00:53, 167.78it/s]\u001b[A\n",
            "eval cumulative reward:  643.6798 (init:  110.9682), eval step-count: 68, average reward= 9.3069 (init= 9.0762), step count (max): 111, lr policy:  0.0000:  82%|████████▏ | 41000/50000 [04:29<00:53, 167.78it/s]\u001b[A\n",
            "eval cumulative reward:  643.6798 (init:  110.9682), eval step-count: 68, average reward= 9.3069 (init= 9.0762), step count (max): 111, lr policy:  0.0000:  84%|████████▍ | 42000/50000 [04:35<00:49, 162.80it/s]\u001b[A\n",
            "eval cumulative reward:  643.6798 (init:  110.9682), eval step-count: 68, average reward= 9.3136 (init= 9.0762), step count (max): 135, lr policy:  0.0000:  84%|████████▍ | 42000/50000 [04:35<00:49, 162.80it/s]\u001b[A\n",
            "eval cumulative reward:  643.6798 (init:  110.9682), eval step-count: 68, average reward= 9.3136 (init= 9.0762), step count (max): 135, lr policy:  0.0000:  86%|████████▌ | 43000/50000 [04:40<00:41, 170.55it/s]\u001b[A\n",
            "eval cumulative reward:  643.6798 (init:  110.9682), eval step-count: 68, average reward= 9.3125 (init= 9.0762), step count (max): 139, lr policy:  0.0000:  86%|████████▌ | 43000/50000 [04:40<00:41, 170.55it/s]\u001b[A\n",
            "eval cumulative reward:  643.6798 (init:  110.9682), eval step-count: 68, average reward= 9.3125 (init= 9.0762), step count (max): 139, lr policy:  0.0000:  88%|████████▊ | 44000/50000 [04:46<00:34, 173.04it/s]\u001b[A\n",
            "eval cumulative reward:  643.6798 (init:  110.9682), eval step-count: 68, average reward= 9.3203 (init= 9.0762), step count (max): 131, lr policy:  0.0000:  88%|████████▊ | 44000/50000 [04:46<00:34, 173.04it/s]\u001b[A\n",
            "eval cumulative reward:  643.6798 (init:  110.9682), eval step-count: 68, average reward= 9.3203 (init= 9.0762), step count (max): 131, lr policy:  0.0000:  90%|█████████ | 45000/50000 [04:51<00:28, 175.31it/s]\u001b[A\n",
            "eval cumulative reward:  643.6798 (init:  110.9682), eval step-count: 68, average reward= 9.3146 (init= 9.0762), step count (max): 140, lr policy:  0.0000:  90%|█████████ | 45000/50000 [04:51<00:28, 175.31it/s]\u001b[A\n",
            "eval cumulative reward:  643.6798 (init:  110.9682), eval step-count: 68, average reward= 9.3146 (init= 9.0762), step count (max): 140, lr policy:  0.0000:  92%|█████████▏| 46000/50000 [04:57<00:22, 174.89it/s]\u001b[A\n",
            "eval cumulative reward:  643.6798 (init:  110.9682), eval step-count: 68, average reward= 9.3159 (init= 9.0762), step count (max): 186, lr policy:  0.0000:  92%|█████████▏| 46000/50000 [04:57<00:22, 174.89it/s]\u001b[A\n",
            "eval cumulative reward:  643.6798 (init:  110.9682), eval step-count: 68, average reward= 9.3159 (init= 9.0762), step count (max): 186, lr policy:  0.0000:  94%|█████████▍| 47000/50000 [05:03<00:17, 174.69it/s]\u001b[A\n",
            "eval cumulative reward:  643.6798 (init:  110.9682), eval step-count: 68, average reward= 9.3221 (init= 9.0762), step count (max): 200, lr policy:  0.0000:  94%|█████████▍| 47000/50000 [05:03<00:17, 174.69it/s]\u001b[A\n",
            "eval cumulative reward:  643.6798 (init:  110.9682), eval step-count: 68, average reward= 9.3221 (init= 9.0762), step count (max): 200, lr policy:  0.0000:  96%|█████████▌| 48000/50000 [05:08<00:11, 180.32it/s]\u001b[A\n",
            "eval cumulative reward:  643.6798 (init:  110.9682), eval step-count: 68, average reward= 9.3231 (init= 9.0762), step count (max): 117, lr policy:  0.0000:  96%|█████████▌| 48000/50000 [05:08<00:11, 180.32it/s]\u001b[A\n",
            "eval cumulative reward:  643.6798 (init:  110.9682), eval step-count: 68, average reward= 9.3231 (init= 9.0762), step count (max): 117, lr policy:  0.0000:  98%|█████████▊| 49000/50000 [05:14<00:05, 177.97it/s]\u001b[A\n",
            "eval cumulative reward:  643.6798 (init:  110.9682), eval step-count: 68, average reward= 9.3123 (init= 9.0762), step count (max): 122, lr policy:  0.0000:  98%|█████████▊| 49000/50000 [05:14<00:05, 177.97it/s]\u001b[A\n",
            "eval cumulative reward:  643.6798 (init:  110.9682), eval step-count: 68, average reward= 9.3123 (init= 9.0762), step count (max): 122, lr policy:  0.0000: 100%|██████████| 50000/50000 [05:19<00:00, 182.75it/s]\u001b[A\n",
            "eval cumulative reward:  643.6798 (init:  110.9682), eval step-count: 68, average reward= 9.3129 (init= 9.0762), step count (max): 111, lr policy:  0.0000: 100%|██████████| 50000/50000 [05:19<00:00, 182.75it/s]\u001b[A"
          ]
        }
      ]
    },
    {
      "cell_type": "markdown",
      "source": [
        "## Results"
      ],
      "metadata": {
        "id": "NX3uAe2HNcf0"
      }
    },
    {
      "cell_type": "code",
      "source": [
        "plt.figure(figsize=(10, 10))\n",
        "plt.subplot(2, 2, 1)\n",
        "plt.plot(logs[\"reward\"])\n",
        "plt.title(\"training rewards (average)\")\n",
        "plt.subplot(2, 2, 2)\n",
        "plt.plot(logs[\"step_count\"])\n",
        "plt.title(\"Max step count (training)\")\n",
        "plt.subplot(2, 2, 3)\n",
        "plt.plot(logs[\"eval reward (sum)\"])\n",
        "plt.title(\"Return (test)\")\n",
        "plt.subplot(2, 2, 4)\n",
        "plt.plot(logs[\"eval step_count\"])\n",
        "plt.title(\"Max step count (test)\")\n",
        "plt.show()"
      ],
      "metadata": {
        "colab": {
          "base_uri": "https://localhost:8080/",
          "height": 853
        },
        "id": "DvWHH9LZNdxu",
        "outputId": "1d004141-8bed-42d6-efd9-0a07652367ad"
      },
      "execution_count": 47,
      "outputs": [
        {
          "output_type": "display_data",
          "data": {
            "text/plain": [
              "<Figure size 1000x1000 with 4 Axes>"
            ],
            "image/png": "[encoded data removed]"
          },
          "metadata": {}
        }
      ]
    }
  ]
}