{
  "nbformat": 4,
  "nbformat_minor": 0,
  "metadata": {
    "colab": {
      "provenance": [],
      "gpuType": "T4"
    },
    "kernelspec": {
      "name": "python3",
      "display_name": "Python 3"
    },
    "language_info": {
      "name": "python"
    },
    "accelerator": "GPU"
  },
  "cells": [
    {
      "cell_type": "markdown",
      "source": [
        "# Reinforcement Learning (DQN) Tutorial\n",
        "\n",
        "### CartPole\n",
        "\n",
        "에이전트는 카트에서 막대기를 떨어뜨리지 않아야 합니다. 그 시간이 길어질수록 보상은 더욱 커집니다. 만약 카트에서 막대기를 떨어뜨리거나, 카트가 중심으로부터 2.4 유닛 이상 움직이게 되면 게임이 끝나게 됩니다."
      ],
      "metadata": {
        "id": "RlpnrnRoTclD"
      }
    },
    {
      "cell_type": "code",
      "source": [
        "!pip install gymnasium[classic_control]"
      ],
      "metadata": {
        "colab": {
          "base_uri": "https://localhost:8080/"
        },
        "id": "L1EzpOsiTqwT",
        "outputId": "60a295bf-fda3-40bc-d7e4-b9db6cfe051c"
      },
      "execution_count": 1,
      "outputs": [
        {
          "output_type": "stream",
          "name": "stdout",
          "text": [
            "Requirement already satisfied: gymnasium[classic_control] in /usr/local/lib/python3.10/dist-packages (0.29.0)\n",
            "Requirement already satisfied: numpy>=1.21.0 in /usr/local/lib/python3.10/dist-packages (from gymnasium[classic_control]) (1.23.5)\n",
            "Requirement already satisfied: cloudpickle>=1.2.0 in /usr/local/lib/python3.10/dist-packages (from gymnasium[classic_control]) (2.2.1)\n",
            "Requirement already satisfied: typing-extensions>=4.3.0 in /usr/local/lib/python3.10/dist-packages (from gymnasium[classic_control]) (4.7.1)\n",
            "Requirement already satisfied: farama-notifications>=0.0.1 in /usr/local/lib/python3.10/dist-packages (from gymnasium[classic_control]) (0.0.4)\n",
            "Requirement already satisfied: pygame>=2.1.3 in /usr/local/lib/python3.10/dist-packages (from gymnasium[classic_control]) (2.5.1)\n"
          ]
        }
      ]
    },
    {
      "cell_type": "code",
      "source": [
        "import gymnasium as gym\n",
        "import math\n",
        "import random\n",
        "import matplotlib\n",
        "import matplotlib.pyplot as plt\n",
        "from collections import namedtuple, deque\n",
        "from itertools import count\n",
        "\n",
        "import torch\n",
        "import torch.nn as nn\n",
        "import torch.optim as optim\n",
        "import torch.nn.functional as F"
      ],
      "metadata": {
        "id": "wqfXDvMqT-MS"
      },
      "execution_count": 2,
      "outputs": []
    },
    {
      "cell_type": "code",
      "source": [
        "env = gym.make(\"CartPole-v1\")"
      ],
      "metadata": {
        "id": "ryQjNO7qUQLy"
      },
      "execution_count": 3,
      "outputs": []
    },
    {
      "cell_type": "code",
      "source": [
        "# set up matplotlib\n",
        "is_ipython = \"inline\" in matplotlib.get_backend()\n",
        "if is_ipython:\n",
        "    from IPython import display\n",
        "\n",
        "plt.ion()\n",
        "\n",
        "device = torch.device(\"cuda\" if torch. cuda.is_available() else \"cpu\")"
      ],
      "metadata": {
        "id": "IAYFArABUTQl"
      },
      "execution_count": 4,
      "outputs": []
    },
    {
      "cell_type": "markdown",
      "source": [
        "### Replay Memory (재현 메모리)\n",
        "\n",
        "`Transition` 환경에서 하나의 전환(transition)을 나타내는 네임드 튜플입니다. 이는 (state, action) 쌍을 (next_state, reward) 결과로 매핑합니다.\n",
        "`ReplayMemory`는 최근 관찰한 전환(transition)을 저장하는 제한된 크기의 순환 버퍼입니다. `.sample()` 메서드를 사용하여 훈련에 사용할 transition의 배치를 임의로 선택합니다."
      ],
      "metadata": {
        "id": "8hq5x3DMUfob"
      }
    },
    {
      "cell_type": "code",
      "source": [
        "Transition = namedtuple('Transition',\n",
        "                        ('state', 'action', 'next_state', 'reward'))"
      ],
      "metadata": {
        "id": "WL1a1DnuVdGL"
      },
      "execution_count": 5,
      "outputs": []
    },
    {
      "cell_type": "code",
      "source": [
        "class ReplayMemory(object):\n",
        "\n",
        "    def __init__(self, capacity):\n",
        "        self.memory = deque([], maxlen=capacity)\n",
        "\n",
        "    def push(self, *args):\n",
        "        \"\"\"Save a transition\"\"\"\n",
        "        self.memory.append(Transition(*args))\n",
        "\n",
        "    def sample(self, batch_size):\n",
        "        return random.sample(self.memory, batch_size)\n",
        "\n",
        "    def __len__(self):\n",
        "        return len(self.memory)"
      ],
      "metadata": {
        "id": "mY47yoj7VjL8"
      },
      "execution_count": 6,
      "outputs": []
    },
    {
      "cell_type": "markdown",
      "source": [
        "### DQN 알고리즘\n",
        "\n",
        "우리가 사용하는 환경은 결정론적이기 때문에, 사용하는 공식도 모두 결정론적으로 공식화합니다.\n",
        "\n",
        "우리의 목표는 할인된, 그리고 누적된 보상(또는 결과, return)을 최대화 하는 것입니다.\n",
        "\n",
        "$$\n",
        "R_{t_0} = \\sum_{t={t_0}}^\\infty \\gamma^{t-t_0}r_t\n",
        "$$\n",
        "\n",
        "$\\gamma$가 낮을수록 에이전트는 먼 미래의 불확실한 보상은 비교적 가까운 미래의 확실한 보상보다 덜 중요하게 여깁니다. 또한, 에이전트가 가까운 시점의 보상을, 동일한 양의 미래의 보상보다 먼저 얻을 수 있도록 합니다.\n",
        "\n",
        "할인 계수 $\\gamma$는 합의 수렴을 보장하기 위해 0과 1 사이의 상수여야 합니다. 위 식을 풀어서 쓰면 다음과 같이 됩니다.\n",
        "\n",
        "$$\n",
        "S = R_0 + \\gamma R_1 + \\gamma^2 R_2 + \\gamma^3 R_3 + \\dots\n",
        "$$\n",
        "\n",
        "이 때, $\\gamma$가 0과 1사이의 상수라면 양 변에 $\\gamma$를 곱한 식에서 위 식을 빼고 정리하면, 다음과 같이 합이 수렴합니다.\n",
        "\n",
        "$$\n",
        "S = {{R_0}\\over{1-\\gamma}}\n",
        "$$\n",
        "\n",
        "Q-learning의 핵심 아이디어는 함수 $Q^*: State \\times Action \\rightarrow ℝ$에 대하여, 주어진 상태에서 어떤 행동을 취한다면, 우리는 보상을 최대화할 수 있는 정책을 다음과 같이 세울 수 있다는 것입니다.\n",
        "\n",
        "$$\n",
        "\\pi^*(s) = \\rm{arg}\\max_a Q^*(s, a)\n",
        "$$\n",
        "\n",
        "하지만 우리는 모든 것을 알 수 없고, $Q^*$에 도달할 수 없습니다. 하지만 신경망은 범용 함수 근사자(universal function approximator)이기 때문에, 그와 비슷하게 되도록 훈련할 수는 있습니다.\n",
        "\n",
        "훈련 규칙으로 우리는 매 $Q$ 함수마다 벨만 방정식을 따르도록 할 것입니다.\n",
        "\n",
        "$$\n",
        "Q^{\\pi}(s, a) = r + \\gamma Q^\\pi(s', \\pi(s'))\n",
        "$$\n",
        "\n",
        "두 등식의 차이는 시간차 오류(temporal difference error) $\\delta$ 입니다.\n",
        "\n",
        "$$\n",
        "\\delta = Q(s, a) - (r-\\gamma \\max_a^{'}Q(s', a))\n",
        "$$\n",
        "\n",
        "오차를 최소화하기 위해서 후버 손실을 사용합니다. 후버 손실은 오차가 작을 경우 MSE처럼 동작하고, 오차가 클 경우 MAE처럼 동작합니다. 즉, $Q$의 측정값에 노이즈가 많을 경우 이상치에 강건해진다는 뜻입니다. 우리는 재현 메모리에서 샘플링한 전환의 배치 $B$ 에 대해 이를 게산합니다.\n",
        "\n",
        "$$\n",
        "𝓛 = {{1}\\over{|B|}} \\sum_{(s,a,s',r)\\in B} 𝓛(\\delta)\n",
        "$$\n",
        "<br>\n",
        "$$\n",
        "\\rm{where} ~~ 𝓛(\\delta) = \\begin{cases}\n",
        "{1\\over2}\\delta^2~~~~~~~~~~\\rm{for}~~|\\delta|\\le1,\\\\\n",
        "|\\delta| - {1\\over2}~~~~~\\rm{otherwise}\n",
        "\\end{cases}\n",
        "$$"
      ],
      "metadata": {
        "id": "oOuOvr5rWqvF"
      }
    },
    {
      "cell_type": "markdown",
      "source": [
        "### Q-network\n",
        "\n",
        "모델은 현재와 이전의 스크린 패치(screen patches)의 차이를 취하는 순방향 신경망입니다. 두 개의 출력을 $Q(s, \\rm{left})$와 $Q(s, \\rm{right})$ (여기서 $s$ 는 네트워크의 입력입니다.) 내어놓습니다. 네트워크는 현재 입력에 대해서 예상되는 결과를 예측합니다."
      ],
      "metadata": {
        "id": "ijschwDVHGfA"
      }
    },
    {
      "cell_type": "code",
      "source": [
        "class DQN(nn.Module):\n",
        "\n",
        "    def __init__(self, n_observations, n_actions):\n",
        "        super(DQN, self).__init__()\n",
        "        self.layer1 = nn.Linear(n_observations, 128)\n",
        "        self.layer2 = nn.Linear(128, 128)\n",
        "        self.layer3 = nn.Linear(128, n_actions)\n",
        "\n",
        "    # 하나의 element 또는 배치와 함께 호출되어 다음 행동을 결정합니다.\n",
        "    # 최적화 단계에서는 텐서를 반환합니다.\n",
        "    def forward(self, x):\n",
        "        x = F.relu(self.layer1(x))\n",
        "        x = F.relu(self.layer2(x))\n",
        "        return self.layer3(x)"
      ],
      "metadata": {
        "id": "W8xIh1KWWwG2"
      },
      "execution_count": 7,
      "outputs": []
    },
    {
      "cell_type": "markdown",
      "source": [
        "## Training\n",
        "### 하이퍼파라미터와 유틸리티\n",
        "\n",
        "`select_action` 함수는 epsilon greedy 정책에 의해 행동을 선택합니다. 가끔은 모델을 사용하여 행동을 선택하고, 또 때로는 균일 분포를 따르며 하나를 샘플링합니다.\n",
        "`plot_durations` 함수는 에피소드의 경과를 시각화합니다."
      ],
      "metadata": {
        "id": "T2di6Pj8XOmw"
      }
    },
    {
      "cell_type": "code",
      "source": [
        "# BATCH_SIZE는 replay buffer에서 샘플링한 transition의 개수입니다.\n",
        "# GAMMA는 할인 계수입니다\n",
        "# EPS_START는 epsilon의 초기값입니다.\n",
        "# EPS_END는 epsilon의 종료값입니다.\n",
        "# EPS_DECAY는 epslon이 지수적으로 감쇠하는 비율을 조절합니다. 값이 클수록 감쇠가 느립니다.\n",
        "# TAU는 target network의 update rate입니다.\n",
        "# LR은 AdamW 옵티마이저의 학습률입니다.\n",
        "\n",
        "BATCH_SIZE = 128\n",
        "GAMMA = 0.99\n",
        "EPS_START = 0.9\n",
        "EPS_END = 0.05\n",
        "EPS_DECAY = 1000\n",
        "TAU = 0.005\n",
        "LR = 1e-4"
      ],
      "metadata": {
        "id": "VoMWOP7TXUlV"
      },
      "execution_count": 8,
      "outputs": []
    },
    {
      "cell_type": "code",
      "source": [
        "# gym action space에서 행동의 개수를 가져옵니다.\n",
        "n_actions = env.action_space.n\n",
        "\n",
        "# 상태 관찰 횟수를 가져옵니다\n",
        "state, info = env.reset()\n",
        "n_observations = len(state)\n",
        "\n",
        "policy_net = DQN(n_observations, n_actions).to(device)\n",
        "target_net = DQN(n_observations, n_actions).to(device)\n",
        "target_net.load_state_dict(policy_net.state_dict())\n",
        "\n",
        "optimizer = optim.AdamW(policy_net.parameters(), lr=LR, amsgrad=True)\n",
        "memory = ReplayMemory(10000)\n",
        "\n",
        "steps_done = 0"
      ],
      "metadata": {
        "id": "L8-AFpZ3X5bg"
      },
      "execution_count": 9,
      "outputs": []
    },
    {
      "cell_type": "code",
      "source": [
        "def select_action(state):\n",
        "    global steps_done\n",
        "    sample = random.random()\n",
        "    eps_threshold = EPS_END + (EPS_START - EPS_END) * math.exp(-1. * steps_done / EPS_DECAY)\n",
        "    steps_done += 1\n",
        "\n",
        "    if sample > eps_threshold:\n",
        "        with torch.no_grad():\n",
        "            # t.max(1)는 각 열에서 가장 큰 값을 갖는 행을 반환합니다.\n",
        "            # max result의 두 번째 행은 max element가 발견된 인덱스입니다.\n",
        "            # 따라서 우리는 가장 큰 보상을 갖는 행동을 선택합니다.\n",
        "            return policy_net(state).max(1)[1].view(1, 1)\n",
        "    else:\n",
        "        return torch.tensor([[env.action_space.sample()]], device=device, dtype=torch.long)\n",
        "\n",
        "episode_durations = []"
      ],
      "metadata": {
        "id": "E90ryIyIYhgs"
      },
      "execution_count": 10,
      "outputs": []
    },
    {
      "cell_type": "code",
      "source": [
        "def plot_durations(show_result=False):\n",
        "    plt.figure(1)\n",
        "    durations_t = torch.tensor(episode_durations, dtype=torch.float)\n",
        "    if show_result:\n",
        "        plt.title(\"Result\")\n",
        "    else:\n",
        "        plt.clf()\n",
        "        plt.title(\"Training ...\")\n",
        "    plt.xlabel(\"Episode\")\n",
        "    plt.ylabel(\"Duration\")\n",
        "    plt.plot(durations_t.numpy())\n",
        "    # 100 에피소드를 평균하여 시각화합니다.\n",
        "    if len(durations_t) >= 100:\n",
        "        means = durations_t.unfold(0, 100, 1).mean(1).view(-1)\n",
        "        means = torch.cat((torch.zeros(99), means))\n",
        "        plt.plot(means.numpy())\n",
        "\n",
        "    plt.pause(0.001) # 표가 업데이트 되도록 잠깐 정비합니다.\n",
        "    if is_ipython:\n",
        "        if not show_result:\n",
        "            display.display(plt.gcf())\n",
        "            display.clear_output(wait=True)\n",
        "        else:\n",
        "            display.display(plt.gcf())"
      ],
      "metadata": {
        "id": "vNx3gbVDZ1YJ"
      },
      "execution_count": 11,
      "outputs": []
    },
    {
      "cell_type": "markdown",
      "source": [
        "### Training Loop\n",
        "\n",
        "`optimize_model` 함수는 최적화의 한 step을 수행합니다. 먼저 배치를 샘플링하고, 하나의 텐서가 되도록 연결(concatenate)합니다. 그리고 $Q(s_t, a_t)$와 $V(s_{t+1})=\\max_aQ(s_{t+1}, a)$를 계산한 후, 손실과 결합합니다. 정의에 의해 $V(s)=0$으로 설정하고, $s$ 는 종료 상태입니다. 안정성을 더하기 위해 목표 네트워크를 사용하여 $V(s_{t+1})$를 계산합니다. 목표 네트워크는 매 스텝마다 업데이트 되며 TAU 파라미터에 의해 조절되어 soft update 됩니다."
      ],
      "metadata": {
        "id": "L9kUgJEKanDa"
      }
    },
    {
      "cell_type": "code",
      "source": [
        "def optimize_model():\n",
        "    if len(memory) < BATCH_SIZE:\n",
        "        return\n",
        "\n",
        "    transitions = memory.sample(BATCH_SIZE)\n",
        "\n",
        "    # 배치를 전치합니다.\n",
        "    batch = Transition(*zip(*transitions))\n",
        "\n",
        "    # 최종이 아닌 상태의 마스크를 계산하고 배치의 각 요소들을 연결합니다.\n",
        "    non_final_mask = torch.tensor(tuple(map(lambda s: s is not None, batch.next_state)),\n",
        "                                  device=device, dtype=torch.bool)\n",
        "\n",
        "    print(batch.state)\n",
        "    non_final_next_states = torch.cat([s for s in batch.next_state if s is not None])\n",
        "    state_batch = torch.cat(batch.state)\n",
        "    action_batch = torch.cat(batch.action)\n",
        "    reward_batch = torch.cat(batch.reward)\n",
        "\n",
        "    # Q(s_t, a)를 계산합니다 - 모델은 Q(s_t)를 계산하고, 취한 행동에 대한 컬럼을 선택합니다.\n",
        "    # 이는 policy_net에 따라 각 배치 상태에서 취한 행동입니다.\n",
        "    state_action_values = policy_net(state_batch).gather(1, action_batch)\n",
        "\n",
        "    # 모든 다음 상태에 대한 V(s_{t+1})를 계산합니다.\n",
        "    # non_final_next_state에 대하여 기대되는 값은 이전의 target_net에 기반하여 계산됩니다.\n",
        "    # max(1)[0]에 의해 선택된 값입니다. 이는 마스크를 기반으로 병합되어 예상되는 상태의 값이나 최종 상태일 경우 0이 됩니다.\n",
        "    next_state_values = torch.zeros(BATCH_SIZE, device=device)\n",
        "\n",
        "    with torch.no_grad():\n",
        "        next_state_values[non_final_mask] = target_net(non_final_next_states.max(1)[0])\n",
        "        # 예상되는 Q 값을 계산합니다.\n",
        "        expected_state_action_values = (next_state_values * GAMMA) + reward_batch\n",
        "\n",
        "        # Huber Loss를 계산합니다.\n",
        "        criterion = nn.SmoothL1Loss()\n",
        "        loss = criterion(state_action_values, expected_state_action_values.unsqueeze(1))\n",
        "\n",
        "        # 모델을 최적화합니다.\n",
        "        optimizer.zero_grad()\n",
        "        loss.backward()\n",
        "\n",
        "        # Gradient clipping\n",
        "        torch.nn.utils.clip_grad_value_(policy_net.parameters(), 100)\n",
        "        optimizer.step()\n"
      ],
      "metadata": {
        "id": "eh_11TnFapMO"
      },
      "execution_count": 12,
      "outputs": []
    },
    {
      "cell_type": "markdown",
      "source": [
        "아래는 훈련 루프입니다. 먼저 환경을 초기화하고 최초 상태에 대한 텐서를 얻습니다. 그리고 행동을 샘플링하고 실행합니다. 다음 상태와 보상을 관찰합니다. (보상은 항상 1입니다.) 그리고 모델을 한 번 최적화합니다. 에피소드가 끝나면, 반복을 다시 시작합니다."
      ],
      "metadata": {
        "id": "l3NpHWZMMFEK"
      }
    },
    {
      "cell_type": "code",
      "source": [
        "def optimize_model():\n",
        "    if len(memory) < BATCH_SIZE:\n",
        "        return\n",
        "    transitions = memory.sample(BATCH_SIZE)\n",
        "    # Transpose the batch (see https://stackoverflow.com/a/19343/3343043 for\n",
        "    # detailed explanation). This converts batch-array of Transitions\n",
        "    # to Transition of batch-arrays.\n",
        "    batch = Transition(*zip(*transitions))\n",
        "\n",
        "    # Compute a mask of non-final states and concatenate the batch elements\n",
        "    # (a final state would've been the one after which simulation ended)\n",
        "    non_final_mask = torch.tensor(tuple(map(lambda s: s is not None,\n",
        "                                          batch.next_state)), device=device, dtype=torch.bool)\n",
        "    non_final_next_states = torch.cat([s for s in batch.next_state\n",
        "                                                if s is not None])\n",
        "    state_batch = torch.cat(batch.state)\n",
        "    action_batch = torch.cat(batch.action)\n",
        "    reward_batch = torch.cat(batch.reward)\n",
        "\n",
        "    # Compute Q(s_t, a) - the model computes Q(s_t), then we select the\n",
        "    # columns of actions taken. These are the actions which would've been taken\n",
        "    # for each batch state according to policy_net\n",
        "    state_action_values = policy_net(state_batch).gather(1, action_batch)\n",
        "\n",
        "    # Compute V(s_{t+1}) for all next states.\n",
        "    # Expected values of actions for non_final_next_states are computed based\n",
        "    # on the \"older\" target_net; selecting their best reward with max(1)[0].\n",
        "    # This is merged based on the mask, such that we'll have either the expected\n",
        "    # state value or 0 in case the state was final.\n",
        "    next_state_values = torch.zeros(BATCH_SIZE, device=device)\n",
        "    with torch.no_grad():\n",
        "        next_state_values[non_final_mask] = target_net(non_final_next_states).max(1)[0]\n",
        "    # Compute the expected Q values\n",
        "    expected_state_action_values = (next_state_values * GAMMA) + reward_batch\n",
        "\n",
        "    # Compute Huber loss\n",
        "    criterion = nn.SmoothL1Loss()\n",
        "    loss = criterion(state_action_values, expected_state_action_values.unsqueeze(1))\n",
        "\n",
        "    # Optimize the model\n",
        "    optimizer.zero_grad()\n",
        "    loss.backward()\n",
        "    # In-place gradient clipping\n",
        "    torch.nn.utils.clip_grad_value_(policy_net.parameters(), 100)\n",
        "    optimizer.step()"
      ],
      "metadata": {
        "id": "kl6pmPJ6P6cy"
      },
      "execution_count": 13,
      "outputs": []
    },
    {
      "cell_type": "code",
      "source": [
        "if torch.cuda.is_available():\n",
        "    num_episodes = 600\n",
        "else:\n",
        "    num_episodes = 50\n",
        "\n",
        "for i_episodes in range(num_episodes):\n",
        "    # 환경을 초기화하고 그에 대한 상태를 가져옵니다.\n",
        "    state, info = env.reset()\n",
        "    state = torch.tensor(state, dtype=torch.float32, device=device).unsqueeze(0)\n",
        "\n",
        "    for t in count():\n",
        "        action = select_action(state)\n",
        "        observation, reward, terminated, truncated, _ = env.step(action.item())\n",
        "        reward = torch.tensor([reward], device=device)\n",
        "        done = terminated or truncated\n",
        "\n",
        "        if terminated:\n",
        "            next_state = None\n",
        "        else:\n",
        "            next_state = torch.tensor(observation, dtype=torch.float32, device=device).unsqueeze(0)\n",
        "\n",
        "        # 전환을 메모리에 저장합니다.\n",
        "        memory.push(state, action, next_state, reward)\n",
        "\n",
        "        # 다음 상태로 이동합니다.\n",
        "        state = next_state\n",
        "\n",
        "        # 정책 네트워크 최적화를 한 단계 수행합니다.\n",
        "        optimize_model()\n",
        "\n",
        "        # 목표 네트워크의 가중치를 소프트 업데이트합니다.\n",
        "        target_net_state_dict = target_net.state_dict()\n",
        "        policy_net_state_dict = policy_net.state_dict()\n",
        "\n",
        "        for key in policy_net_state_dict:\n",
        "            target_net_state_dict[key] = policy_net_state_dict[key] * TAU + target_net_state_dict[key] * (1-TAU)\n",
        "            target_net.load_state_dict(target_net_state_dict)\n",
        "\n",
        "        if done:\n",
        "            episode_durations.append(t + 1)\n",
        "            plot_durations()\n",
        "            break\n",
        "\n",
        "print(\"Complete\")\n",
        "plot_durations(show_result=True)\n",
        "plt.ioff()\n",
        "plt.show()"
      ],
      "metadata": {
        "colab": {
          "base_uri": "https://localhost:8080/",
          "height": 749
        },
        "id": "suSBzquMatmQ",
        "outputId": "492ce7e9-71fe-4ead-e3ce-307e55e74fbf"
      },
      "execution_count": 14,
      "outputs": [
        {
          "output_type": "stream",
          "name": "stdout",
          "text": [
            "Complete\n"
          ]
        },
        {
          "output_type": "display_data",
          "data": {
            "text/plain": [
              "<Figure size 640x480 with 1 Axes>"
            ],
            "image/png": "[encoded data removed]"
          },
          "metadata": {}
        },
        {
          "output_type": "display_data",
          "data": {
            "text/plain": [
              "<Figure size 640x480 with 0 Axes>"
            ]
          },
          "metadata": {}
        },
        {
          "output_type": "error",
          "ename": "NameError",
          "evalue": "ignored",
          "traceback": [
            "\u001b[0;31m---------------------------------------------------------------------------\u001b[0m",
            "\u001b[0;31mNameError\u001b[0m                                 Traceback (most recent call last)",
            "\u001b[0;32m<ipython-input-14-1d4ee92d9ed8>\u001b[0m in \u001b[0;36m<cell line: 46>\u001b[0;34m()\u001b[0m\n\u001b[1;32m     44\u001b[0m \u001b[0mprint\u001b[0m\u001b[0;34m(\u001b[0m\u001b[0;34m\"Complete\"\u001b[0m\u001b[0;34m)\u001b[0m\u001b[0;34m\u001b[0m\u001b[0;34m\u001b[0m\u001b[0m\n\u001b[1;32m     45\u001b[0m \u001b[0mplot_durations\u001b[0m\u001b[0;34m(\u001b[0m\u001b[0mshow_result\u001b[0m\u001b[0;34m=\u001b[0m\u001b[0;32mTrue\u001b[0m\u001b[0;34m)\u001b[0m\u001b[0;34m\u001b[0m\u001b[0;34m\u001b[0m\u001b[0m\n\u001b[0;32m---> 46\u001b[0;31m \u001b[0mplot\u001b[0m\u001b[0;34m.\u001b[0m\u001b[0mioff\u001b[0m\u001b[0;34m(\u001b[0m\u001b[0;34m)\u001b[0m\u001b[0;34m\u001b[0m\u001b[0;34m\u001b[0m\u001b[0m\n\u001b[0m\u001b[1;32m     47\u001b[0m \u001b[0mplot\u001b[0m\u001b[0;34m.\u001b[0m\u001b[0mshow\u001b[0m\u001b[0;34m(\u001b[0m\u001b[0;34m)\u001b[0m\u001b[0;34m\u001b[0m\u001b[0;34m\u001b[0m\u001b[0m\n",
            "\u001b[0;31mNameError\u001b[0m: name 'plot' is not defined"
          ]
        },
        {
          "output_type": "display_data",
          "data": {
            "text/plain": [
              "<Figure size 640x480 with 0 Axes>"
            ]
          },
          "metadata": {}
        }
      ]
    },
    {
      "cell_type": "code",
      "source": [],
      "metadata": {
        "id": "ly43MlxvTVO2"
      },
      "execution_count": null,
      "outputs": []
    }
  ]
}