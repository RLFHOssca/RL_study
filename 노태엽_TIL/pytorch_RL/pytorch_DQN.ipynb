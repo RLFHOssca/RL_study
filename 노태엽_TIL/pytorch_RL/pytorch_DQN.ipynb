{
 "cells": [
  {
   "cell_type": "markdown",
   "metadata": {},
   "source": [
    "# Pytorch Deep Q Learning (DQN) Tutorial\n",
    "- Task\n",
    ":    Cartpole"
   ]
  },
  {
   "cell_type": "code",
   "execution_count": 14,
   "metadata": {},
   "outputs": [
    {
     "name": "stdout",
     "output_type": "stream",
     "text": [
      "Requirement already satisfied: gymnasium[classic_control] in /home/taeyupnoh_990714/miniconda3/lib/python3.9/site-packages (0.29.1)\n",
      "Requirement already satisfied: numpy>=1.21.0 in /home/taeyupnoh_990714/miniconda3/lib/python3.9/site-packages (from gymnasium[classic_control]) (1.25.0)\n",
      "Requirement already satisfied: cloudpickle>=1.2.0 in /home/taeyupnoh_990714/miniconda3/lib/python3.9/site-packages (from gymnasium[classic_control]) (2.2.1)\n",
      "Requirement already satisfied: typing-extensions>=4.3.0 in /home/taeyupnoh_990714/miniconda3/lib/python3.9/site-packages (from gymnasium[classic_control]) (4.7.1)\n",
      "Requirement already satisfied: farama-notifications>=0.0.1 in /home/taeyupnoh_990714/miniconda3/lib/python3.9/site-packages (from gymnasium[classic_control]) (0.0.4)\n",
      "Requirement already satisfied: importlib-metadata>=4.8.0 in /home/taeyupnoh_990714/miniconda3/lib/python3.9/site-packages (from gymnasium[classic_control]) (6.8.0)\n",
      "Requirement already satisfied: pygame>=2.1.3 in /home/taeyupnoh_990714/miniconda3/lib/python3.9/site-packages (from gymnasium[classic_control]) (2.5.1)\n",
      "Requirement already satisfied: zipp>=0.5 in /home/taeyupnoh_990714/miniconda3/lib/python3.9/site-packages (from importlib-metadata>=4.8.0->gymnasium[classic_control]) (3.16.2)\n",
      "^C\n",
      "\u001b[31mERROR: Operation cancelled by user\u001b[0m\u001b[31m\n",
      "\u001b[0m"
     ]
    }
   ],
   "source": [
    "!pip3 install gymnasium[classic_control]"
   ]
  },
  {
   "cell_type": "code",
   "execution_count": 1,
   "metadata": {},
   "outputs": [
    {
     "name": "stdout",
     "output_type": "stream",
     "text": [
      "1\n",
      "NVIDIA RTX A6000\n",
      "True\n"
     ]
    }
   ],
   "source": [
    "import os\n",
    "import torch\n",
    "os.environ[\"CUDA_DEVICE_ORDER\"] = \"PCI_BUS_ID\"\n",
    "os.environ[\"CUDA_VISIBLE_DEVICES\"] = \"2\"\n",
    "print(torch.cuda.device_count())\n",
    "print(torch.cuda.get_device_name(0))\n",
    "print(torch.cuda.is_available())"
   ]
  },
  {
   "cell_type": "code",
   "execution_count": 2,
   "metadata": {},
   "outputs": [],
   "source": [
    "import gymnasium as gym\n",
    "import math\n",
    "import random\n",
    "import matplotlib\n",
    "import matplotlib.pyplot as plt\n",
    "from collections import namedtuple, deque\n",
    "from itertools import count\n",
    "\n",
    "import torch\n",
    "import torch.nn as nn\n",
    "import torch.optim as optim\n",
    "import torch.nn.functional as F\n",
    "\n",
    "env = gym.make(\"CartPole-v1\")\n",
    "\n",
    "# set up matplotlib\n",
    "is_ipython = 'inline' in matplotlib.get_backend()\n",
    "if is_ipython:\n",
    "    from IPython import display\n",
    "\n",
    "plt.ion()\n",
    "\n",
    "# if GPU is to be used\n",
    "device = torch.device(\"cuda\" if torch.cuda.is_available() else \"cpu\")"
   ]
  },
  {
   "cell_type": "markdown",
   "metadata": {},
   "source": [
    "### Replay Memory\n",
    "\n",
    "Replay Memory는 Agent가 관찰한 transition을 저장한 뒤, 나중에 재사용할 수 있도록 만든 곳이다.\n",
    "\n",
    "Replay Memory에 저장한 여러 transition을 나중에 random으로 뽑아, 배치 단위로 학습을 진행하게 된다.\n",
    "\n",
    "- transition : (state, action, next_state, reward) -> `named tuple`\n",
    "- ReplayMemory : 가장 최근 관찰한 transition을 저장(push)하고 random으로 뽑는(sample)역할을 하는 클래스이다."
   ]
  },
  {
   "cell_type": "code",
   "execution_count": 3,
   "metadata": {},
   "outputs": [],
   "source": [
    "Transition = namedtuple('Transition',\n",
    "                        ('state', 'action', 'next_state', 'reward'))\n",
    "\n",
    "\n",
    "class ReplayMemory(object):\n",
    "\n",
    "    def __init__(self, capacity):\n",
    "        self.memory = deque([], maxlen=capacity)\n",
    "\n",
    "    def push(self, *args):\n",
    "        \"\"\"Save a transition\"\"\"\n",
    "        self.memory.append(Transition(*args))\n",
    "\n",
    "    def sample(self, batch_size):\n",
    "        return random.sample(self.memory, batch_size)\n",
    "\n",
    "    def __len__(self):\n",
    "        return len(self.memory)"
   ]
  },
  {
   "cell_type": "markdown",
   "metadata": {},
   "source": [
    "### DQN algorithm\n",
    "\n",
    "본 실습에서 사용하는 environment는 deterministic하다. (simplicity를 위해)\n",
    "\n",
    "본 알고리즘의 목표는 **discounted, cumulative reward**를 최대화하도록 policy를 학습시키는 것이다.\n",
    "\n",
    "Q-learning의 핵심은 아래의 수식들이다.\n",
    "\n",
    "*(여기서 * 표시가 붙은 값들은 이상적인 값을 나타낸다)*\n",
    "$$Q^* : State * Action \\rightarrow R \\tag{1}$$ \n",
    "\n",
    "(1) : Reward는 State와 Action의 곱으로 표현\n",
    "\n",
    "$$\\pi^*(s) = \\argmax_a Q^*(s,a) \\tag{2}$$\n",
    "\n",
    "(2) : 최적의 정책 $\\pi^*(s)$는 $Q^*(s,a)$를 최대화하는 action\n",
    "\n",
    "하지만 현재로썬 최적의 정책을 모르므로, 임의의 Q를 만들고 최적의 정책이 될 수 있도록 학습시킨다. \n",
    "\n",
    "학습 시에는 Q함수가 Bellman equation을 따른다는 사실을 이용할 것이다.\n",
    "\n",
    "$$Q^{\\pi}(s,a) = r + \\gamma Q^{\\pi}(s',\\pi(s'))$$\n",
    "\n",
    "temporal difference($\\delta$)를 다음과 같이 정의하고 이를 이용해 학습에 사용될 오차(error)를 정의한다.\n",
    "\n",
    "$$\\delta = Q(s,a) - (r + \\gamma \\max_a' Q(s',a))$$\n",
    "\n",
    "error를 최소화하기 위해, Huber loss를 이용할 것이다. \n",
    "\n",
    "Huber loss는 error의 절대값이 1보다 작거나 같을 경우에는 mean squared error가 되고, 아닐 경우에는 mean absolute error가 된다. \n",
    "\n",
    "이를 통해 Q 함수가 outlier가 많을 때에도 robustness를 가질 수 있다.\n",
    "\n",
    "replay memeory로부터 뽑은 transition의 sample들로 구성된 배치 단위(B)로 학습이 진행된다.\n",
    "\n",
    "$$\\mathcal{L} = {1 \\over |B|} \\Sigma_{(s,a,s',r) \\in B} \\mathcal{L}(\\delta)$$\n",
    "\n",
    "$$\n",
    "\\begin{equation}\n",
    "\\mathcal{L}(\\delta) =\n",
    "\\begin{cases}\n",
    "\\frac{1}{2} \\delta^2 & \\text{for } |\\delta| \\leq 1 \\\\\n",
    "|\\delta - \\frac{1}{2}| & \\text{otherwise}\n",
    "\\end{cases}\n",
    "\\end{equation}\n",
    "$$"
   ]
  },
  {
   "cell_type": "markdown",
   "metadata": {},
   "source": [
    "### Q-network\n",
    "\n",
    "간단한 feed forward network를 이용할 것이다.\n",
    "\n",
    "Cartpole에서 output은 두 가지인데, **Q(s, left) 또는 Q(s, right)** 이다.\n",
    "\n",
    "즉 network는 주어진 input에 대해 *expected return* 을 예측하도록 학습될 것이다."
   ]
  },
  {
   "cell_type": "code",
   "execution_count": 4,
   "metadata": {},
   "outputs": [],
   "source": [
    "class DQN(nn.Module):\n",
    "\n",
    "    def __init__(self, n_observations, n_actions):\n",
    "        super(DQN, self).__init__()\n",
    "        self.layer1 = nn.Linear(n_observations, 128)\n",
    "        self.layer2 = nn.Linear(128, 128)\n",
    "        self.layer3 = nn.Linear(128, n_actions)\n",
    "\n",
    "    def forward(self, x):\n",
    "        x = F.relu(self.layer1(x))\n",
    "        x = F.relu(self.layer2(x))\n",
    "        return self.layer3(x)"
   ]
  },
  {
   "cell_type": "markdown",
   "metadata": {},
   "source": [
    "### Training\n",
    "#### Hyperparameters and utilities\n",
    "\n",
    "- select_action : epsilon greedy policy를 통해 어떤 action을 할 지 선택하는 함수\n",
    "\n",
    "- plot-duration : 학습의 결과를 보기에 용이하게 plot하는 함수\n"
   ]
  },
  {
   "cell_type": "code",
   "execution_count": 5,
   "metadata": {},
   "outputs": [],
   "source": [
    "BATCH_SIZE = 128 # 배치 사이즈 : Replay Memory로부터 sample로 뽑을 transition의 수\n",
    "GAMMA = 0.99 # 감마 : 감소율\n",
    "EPS_START = 0.9 : # 입실론의 시작 값\n",
    "EPS_END = 0.05 # 입실론의 끝 값\n",
    "EPS_DECAY = 1000 # 입실론의 감소하는 속도\n",
    "TAU = 0.005 # 타겟 네트워크 업데이트 비율\n",
    "LR = 1e-4 # 학습률\n",
    "\n",
    "n_actions = env.action_space.n # gym의 env로부터 액션의 개수 받기 (cartpole에서 2)\n",
    "\n",
    "state, info = env.reset() # gym의 env로부터 관찰한 값을 받기 (본 코드에서는 state만 이용)\n",
    "# state에는 Cart Position / Cart Velocity / Pole Angle / Pole Velocity 정보를 담고 있음\n",
    "n_observations = len(state)\n",
    "\n",
    "policy_net = DQN(n_observations, n_actions).to(device)\n",
    "target_net = DQN(n_observations, n_actions).to(device)\n",
    "target_net.load_state_dict(policy_net.state_dict())\n",
    "\n",
    "optimizer = optim.AdamW(policy_net.parameters(), lr=LR, amsgrad=True)\n",
    "memory = ReplayMemory(10000)\n",
    "\n",
    "\n",
    "steps_done = 0\n",
    "\n",
    "\n",
    "def select_action(state):\n",
    "    global steps_done\n",
    "    sample = random.random()\n",
    "    eps_threshold = EPS_END + (EPS_START - EPS_END) * \\\n",
    "        math.exp(-1. * steps_done / EPS_DECAY)\n",
    "    steps_done += 1\n",
    "    if sample > eps_threshold:\n",
    "        with torch.no_grad():\n",
    "            # policy_net(state) 를 통해 DQN의 foward 호출\n",
    "            # (batch_size, 2) -> (1) -> (1,1)\n",
    "            return policy_net(state).max(1)[1].view(1, 1)\n",
    "    else:\n",
    "        return torch.tensor([[env.action_space.sample()]], device=device, dtype=torch.long)\n",
    "\n",
    "\n",
    "episode_durations = []\n",
    "\n",
    "\n",
    "def plot_durations(show_result=False):\n",
    "    plt.figure(1)\n",
    "    durations_t = torch.tensor(episode_durations, dtype=torch.float)\n",
    "    if show_result:\n",
    "        plt.title('Result')\n",
    "    else:\n",
    "        plt.clf()\n",
    "        plt.title('Training...')\n",
    "    plt.xlabel('Episode')\n",
    "    plt.ylabel('Duration')\n",
    "    plt.plot(durations_t.numpy())\n",
    "    # 100개의 episode를 가져와 평균을 내 plot하기\n",
    "    if len(durations_t) >= 100:\n",
    "        means = durations_t.unfold(0, 100, 1).mean(1).view(-1)\n",
    "        means = torch.cat((torch.zeros(99), means))\n",
    "        plt.plot(means.numpy())\n",
    "\n",
    "    plt.pause(0.001)  # plot이 update될 수 있는 시간 주기\n",
    "    if is_ipython:\n",
    "        if not show_result:\n",
    "            display.display(plt.gcf())\n",
    "            display.clear_output(wait=True)\n",
    "        else:\n",
    "            display.display(plt.gcf())"
   ]
  },
  {
   "cell_type": "code",
   "execution_count": 3,
   "metadata": {},
   "outputs": [],
   "source": [
    "def optimize_model():\n",
    "    if len(memory) < BATCH_SIZE:\n",
    "        return\n",
    "    transitions = memory.sample(BATCH_SIZE)\n",
    "    batch = Transition(*zip(*transitions)) # state는 state끼리, action은 action끼리, next_state는 next_state끼리, reward는 reward끼리 묶는 코드\n",
    "    # https://stackoverflow.com/a/19343/3343043\n",
    "\n",
    "    non_final_mask = torch.tensor(tuple(map(lambda s: s is not None,\n",
    "                                          batch.next_state)), device=device, dtype=torch.bool)\n",
    "    # 학습에 사용할 샘플링된 배치 데이터 중 state가 맨 마지막 state인지 아니면 다음 state가 있는지 알 수 있는 표시 하는 코드\n",
    "    # batch는 `named tuple`\n",
    "    \n",
    "    non_final_next_states = torch.cat([s for s in batch.next_state\n",
    "                                                if s is not None])\n",
    "    state_batch = torch.cat(batch.state)\n",
    "    action_batch = torch.cat(batch.action)\n",
    "    reward_batch = torch.cat(batch.reward)\n",
    "\n",
    "    # Compute Q(s_t, a) - the model computes Q(s_t), then we select the\n",
    "    # columns of actions taken. These are the actions which would've been taken\n",
    "    # for each batch state according to policy_net\n",
    "    \n",
    "    # INPUT.gather(DIM, INDEX)\n",
    "    state_action_values = policy_net(state_batch).gather(1, action_batch)\n",
    "\n",
    "    # Compute V(s_{t+1}) for all next states.\n",
    "    # Expected values of actions for non_final_next_states are computed based\n",
    "    # on the \"older\" target_net; selecting their best reward with max(1)[0].\n",
    "    # This is merged based on the mask, such that we'll have either the expected\n",
    "    # state value or 0 in case the state was final.\n",
    "    next_state_values = torch.zeros(BATCH_SIZE, device=device)\n",
    "    with torch.no_grad():\n",
    "        next_state_values[non_final_mask] = target_net(non_final_next_states).max(1)[0]\n",
    "    # Compute the expected Q values\n",
    "    expected_state_action_values = (next_state_values * GAMMA) + reward_batch\n",
    "\n",
    "    # Compute Huber loss\n",
    "    criterion = nn.SmoothL1Loss()\n",
    "    loss = criterion(state_action_values, expected_state_action_values.unsqueeze(1))\n",
    "\n",
    "    # Optimize the model\n",
    "    optimizer.zero_grad()\n",
    "    loss.backward()\n",
    "    # In-place gradient clipping\n",
    "    torch.nn.utils.clip_grad_value_(policy_net.parameters(), 100)\n",
    "    optimizer.step()"
   ]
  },
  {
   "cell_type": "code",
   "execution_count": 7,
   "metadata": {},
   "outputs": [
    {
     "name": "stdout",
     "output_type": "stream",
     "text": [
      "Complete\n"
     ]
    },
    {
     "data": {
      "image/png": "[encoded data removed]",
      "text/plain": [
       "<Figure size 640x480 with 1 Axes>"
      ]
     },
     "metadata": {},
     "output_type": "display_data"
    },
    {
     "data": {
      "text/plain": [
       "<Figure size 640x480 with 0 Axes>"
      ]
     },
     "metadata": {},
     "output_type": "display_data"
    },
    {
     "data": {
      "text/plain": [
       "<Figure size 640x480 with 0 Axes>"
      ]
     },
     "metadata": {},
     "output_type": "display_data"
    }
   ],
   "source": [
    "if torch.cuda.is_available():\n",
    "    num_episodes = 600\n",
    "else:\n",
    "    num_episodes = 50\n",
    "\n",
    "for i_episode in range(num_episodes):\n",
    "    # Initialize the environment and get it's state\n",
    "    state, info = env.reset()\n",
    "    state = torch.tensor(state, dtype=torch.float32, device=device).unsqueeze(0)\n",
    "    for t in count():\n",
    "        action = select_action(state)\n",
    "        observation, reward, terminated, truncated, _ = env.step(action.item())\n",
    "        reward = torch.tensor([reward], device=device)\n",
    "        done = terminated or truncated\n",
    "\n",
    "        if terminated:\n",
    "            next_state = None\n",
    "        else:\n",
    "            next_state = torch.tensor(observation, dtype=torch.float32, device=device).unsqueeze(0)\n",
    "\n",
    "        # Store the transition in memory\n",
    "        memory.push(state, action, next_state, reward)\n",
    "\n",
    "        # Move to the next state\n",
    "        state = next_state\n",
    "\n",
    "        # Perform one step of the optimization (on the policy network)\n",
    "        optimize_model()\n",
    "\n",
    "        # Soft update of the target network's weights\n",
    "        # θ′ ← τ θ + (1 −τ )θ′\n",
    "        target_net_state_dict = target_net.state_dict()\n",
    "        policy_net_state_dict = policy_net.state_dict()\n",
    "        for key in policy_net_state_dict:\n",
    "            target_net_state_dict[key] = policy_net_state_dict[key]*TAU + target_net_state_dict[key]*(1-TAU)\n",
    "        target_net.load_state_dict(target_net_state_dict)\n",
    "\n",
    "        if done:\n",
    "            episode_durations.append(t + 1)\n",
    "            plot_durations()\n",
    "            break\n",
    "\n",
    "print('Complete')\n",
    "plot_durations(show_result=True)\n",
    "plt.ioff()\n",
    "plt.show()"
   ]
  },
  {
   "cell_type": "code",
   "execution_count": null,
   "metadata": {},
   "outputs": [],
   "source": []
  }
 ],
 "metadata": {
  "kernelspec": {
   "display_name": "base",
   "language": "python",
   "name": "python3"
  },
  "language_info": {
   "codemirror_mode": {
    "name": "ipython",
    "version": 3
   },
   "file_extension": ".py",
   "mimetype": "text/x-python",
   "name": "python",
   "nbconvert_exporter": "python",
   "pygments_lexer": "ipython3",
   "version": "3.9.17"
  },
  "orig_nbformat": 4
 },
 "nbformat": 4,
 "nbformat_minor": 2
}
